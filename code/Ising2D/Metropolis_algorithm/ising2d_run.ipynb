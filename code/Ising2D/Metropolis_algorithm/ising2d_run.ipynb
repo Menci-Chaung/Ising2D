{
 "metadata": {
  "name": "ising2d_run.ipynb"
 },
 "nbformat": 3,
 "nbformat_minor": 0,
 "worksheets": [
  {
   "cells": [
    {
     "cell_type": "code",
     "collapsed": false,
     "input": [
      "from ising2dmetropolis import *\n",
      "import numpy as np"
     ],
     "language": "python",
     "metadata": {},
     "outputs": [],
     "prompt_number": 10
    },
    {
     "cell_type": "raw",
     "metadata": {},
     "source": [
      "f_handle = open('uncorrelated/properties_and_error','a')\n",
      "f_handle.write('#            J           /        H           /       L          / Magnetic Susceptibility / Specific Heat /    Suscept Blocking   /   Heat Blocking   /  Suscept Jackknife  /  Heat Jackknife  \\n')\n",
      "f_handle.close()\n",
      "\n",
      "f_handle = open('uncorrelated/mean_observable_and_error','a')\n",
      "f_handle.write('#            J         /        H           /       L          /   Magnetization   /  Internal Energy  /     Magnet^2     /      Energy^2       / Magnet Blocking  / Energy Blocking  / Magnet^2 Blocking /  Energy^2 Blocking  / Magnet Jackknife  / Energy Jackknife  /  Magnet^2 Jackknife  /Energy^2 Jackknife     \\n')\n",
      "f_handle.close()\n",
      "\n",
      "f_handle = open('correlated/correlation_times','a')\n",
      "f_handle.write('#              J           /        H           /        L          /   Correlation Time \\n')\n",
      "f_handle.close()\n",
      "\n",
      "f_handle = open('equil/acceptance_ratio','a')\n",
      "f_handle.write('#            J           /        H           /        L          /   Acceptance Ratio \\n')\n",
      "f_handle.close()\n",
      "\n",
      "f_handle = open('correlated/acceptance_ratio','a')\n",
      "f_handle.write('#            J           /        H           /        L          /   Acceptance Ratio \\n')\n",
      "f_handle.close()\n",
      "\n",
      "f_handle = open('uncorrelated/acceptance_ratio','a')\n",
      "f_handle.write('#            J           /        H           /        L          /   Acceptance Ratio \\n')\n",
      "f_handle.close()"
     ]
    },
    {
     "cell_type": "code",
     "collapsed": false,
     "input": [
      "Nobserv=4 \n",
      "L=32\n",
      "\n",
      "\n",
      "Temp = 2.269\n",
      "\n",
      "J= 1.0 / Temp\n",
      "\n",
      "H=0.0\n",
      "N=L*L"
     ],
     "language": "python",
     "metadata": {},
     "outputs": [],
     "prompt_number": 11
    },
    {
     "cell_type": "code",
     "collapsed": false,
     "input": [
      "init_spin = np.ones(N, dtype=np.int64) \n",
      "\n",
      "np.savetxt('%s/spin' %('spin'),init_spin)   "
     ],
     "language": "python",
     "metadata": {},
     "outputs": [],
     "prompt_number": 12
    },
    {
     "cell_type": "code",
     "collapsed": false,
     "input": [
      "print J"
     ],
     "language": "python",
     "metadata": {},
     "outputs": [
      {
       "output_type": "stream",
       "stream": "stdout",
       "text": [
        "0.440722785368\n"
       ]
      }
     ],
     "prompt_number": 13
    },
    {
     "cell_type": "code",
     "collapsed": false,
     "input": [
      "Nsw_equil1=3000"
     ],
     "language": "python",
     "metadata": {},
     "outputs": [],
     "prompt_number": 14
    },
    {
     "cell_type": "code",
     "collapsed": false,
     "input": [
      "ising2dmc(J,L,N,H,Nsw=Nsw_equil1,max_correlation=1,filename='equil1',spin_read_filename='spin/spin',spin_write_filename='spin/spin',Nobs=Nobserv)"
     ],
     "language": "python",
     "metadata": {},
     "outputs": [],
     "prompt_number": 15
    },
    {
     "cell_type": "code",
     "collapsed": false,
     "input": [
      "Nsw_corre1=4000"
     ],
     "language": "python",
     "metadata": {},
     "outputs": [],
     "prompt_number": 16
    },
    {
     "cell_type": "code",
     "collapsed": false,
     "input": [
      "ising2dmc(J,L,N,H,Nsw=Nsw_corre1,max_correlation=1,filename='correlated1',spin_read_filename='spin/spin',spin_write_filename='spin/spin',Nobs=Nobserv)"
     ],
     "language": "python",
     "metadata": {},
     "outputs": [],
     "prompt_number": 17
    },
    {
     "cell_type": "code",
     "collapsed": false,
     "input": [
      "tau=autocorrelation(Nsw_corre1,J,L,N,H,'correlated1',Nobserv)\n",
      "\n",
      "print tau"
     ],
     "language": "python",
     "metadata": {},
     "outputs": [
      {
       "output_type": "stream",
       "stream": "stdout",
       "text": [
        "[ 240.  302.  250.  408.]\n",
        "408\n"
       ]
      }
     ],
     "prompt_number": 18
    },
    {
     "cell_type": "code",
     "collapsed": false,
     "input": [
      "tau=28"
     ],
     "language": "python",
     "metadata": {},
     "outputs": [],
     "prompt_number": 58
    },
    {
     "cell_type": "code",
     "collapsed": false,
     "input": [
      "Ndata=6000"
     ],
     "language": "python",
     "metadata": {},
     "outputs": [],
     "prompt_number": 59
    },
    {
     "cell_type": "code",
     "collapsed": false,
     "input": [
      "ising2dmc(J,L,N,H,Nsw=Ndata,max_correlation=tau,filename='uncorrelated',spin_read_filename='spin/spin',spin_write_filename='spin/spin',Nobs=Nobserv)"
     ],
     "language": "python",
     "metadata": {},
     "outputs": [],
     "prompt_number": 60
    },
    {
     "cell_type": "code",
     "collapsed": false,
     "input": [
      "observable_uncorre=load_observable1(Ndata,J,L,H,'uncorrelated',Nobserv)\n",
      "\n",
      "length=len(observable_uncorre[0])\n",
      "\n",
      "print length"
     ],
     "language": "python",
     "metadata": {},
     "outputs": [
      {
       "output_type": "stream",
       "stream": "stdout",
       "text": [
        "6000\n"
       ]
      }
     ],
     "prompt_number": 61
    },
    {
     "cell_type": "code",
     "collapsed": false,
     "input": [
      "analyze(Nobserv,observable_uncorre,length,J,L,N,H)"
     ],
     "language": "python",
     "metadata": {},
     "outputs": [
      {
       "output_type": "stream",
       "stream": "stdout",
       "text": [
        "[ 3.86782298  0.40479188]\n",
        "[ 0.08821907  0.01047678  0.06910621  0.00755378]\n"
       ]
      }
     ],
     "prompt_number": 62
    },
    {
     "cell_type": "heading",
     "level": 1,
     "metadata": {},
     "source": [
      "Timer:"
     ]
    },
    {
     "cell_type": "code",
     "collapsed": false,
     "input": [
      "import timeit\n",
      "t=timeit.Timer(\"ising2dmc(1/(1.4),32,32*32,0.0,Nsw=4000,max_correlation=1,filename='correlated',spin_read_filename='spin/spin',spin_write_filename='spin/spin',Nobs=4)\",\"from __main__ import ising2dmc\")\n",
      "print t.timeit(1)"
     ],
     "language": "python",
     "metadata": {},
     "outputs": []
    },
    {
     "cell_type": "heading",
     "level": 1,
     "metadata": {},
     "source": [
      "Error with Bunching"
     ]
    },
    {
     "cell_type": "code",
     "collapsed": false,
     "input": [
      "obs_bunching=observable_uncorre.tolist()\n",
      "\n",
      "poweroftwo = 8\n",
      "\n",
      "errors  = [ [] for i in xrange(Nobserv) ]\n",
      "bunches = [a for a in range(poweroftwo)] \n",
      "\n",
      "for k in range(Nobserv):\n",
      "    for i in range(poweroftwo):\n",
      "        new_obs_bunching = []\n",
      "        mean_bunching = 0.0\n",
      "        mean_sq_bunching = 0.0\n",
      "        N_bunching = len(obs_bunching[k])\n",
      "        while obs_bunching[k] != []:\n",
      "            x = obs_bunching[k].pop()\n",
      "            y = obs_bunching[k].pop()\n",
      "            mean_bunching += x + y\n",
      "            mean_sq_bunching += x ** 2 + y ** 2\n",
      "            new_obs_bunching.append((x + y) / 2.0 )\n",
      "        errors[k].append(math.sqrt(mean_sq_bunching / N_bunching - (mean_bunching / N_bunching) ** 2) / math.sqrt(N_bunching))\n",
      "        obs_bunching[k] = new_obs_bunching[:]\n",
      "\n",
      "plt.plot(bunches, errors[0], 'ro')\n",
      "#plt.plot(bunches, errors[1], 'go')\n",
      "#plt.plot(bunches, errors[2], 'o')\n",
      "#plt.plot(bunches, errors[3], 'ko')\n",
      "plt.xlabel('iteration')\n",
      "plt.ylabel('naive error')\n",
      "plt.title('Bunching: naive error vs iteration number')\n",
      "#plt.savefig('apparent_error_bunching.png', format='PNG')\n",
      "plt.show()\n",
      "\n",
      "print errors[0]"
     ],
     "language": "python",
     "metadata": {},
     "outputs": []
    }
   ],
   "metadata": {}
  }
 ]
}