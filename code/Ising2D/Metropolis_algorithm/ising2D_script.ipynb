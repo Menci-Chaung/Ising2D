{
 "metadata": {
  "name": "ising2D_script.ipynb"
 },
 "nbformat": 3,
 "nbformat_minor": 0,
 "worksheets": [
  {
   "cells": [
    {
     "cell_type": "code",
     "collapsed": false,
     "input": [
      "import random\n",
      "import numpy as np\n",
      "import time"
     ],
     "language": "python",
     "metadata": {},
     "outputs": [],
     "prompt_number": 27
    },
    {
     "cell_type": "code",
     "collapsed": false,
     "input": [
      "def initialize(accept,nlist,J,L,N):                    \n",
      "    for n in range(1,3):           \n",
      "        accept[n-1] = (np.exp(-1*n*4*J)) \n",
      "    \n",
      "    for i in xrange(0,N):\n",
      "        nlist[i][0] = (i-1)%N\n",
      "        nlist[i][1] = (i-L)%N\n",
      "        nlist[i][2] = (i+1)%N\n",
      "        nlist[i][3] = (i+L)%N   "
     ],
     "language": "python",
     "metadata": {},
     "outputs": [],
     "prompt_number": 28
    },
    {
     "cell_type": "code",
     "collapsed": false,
     "input": [
      "def MCstep(spin,nlist,N,accept,accept_ratio):\n",
      "    \n",
      "    js = random.randrange(0,N)                              \n",
      "    \n",
      "    MF = (spin[nlist[js][0]] + spin[nlist[js][1]] + spin[nlist[js][2]] + spin[nlist[js][3]])\n",
      "    \n",
      "    DE = 2*spin[js]*MF                                \n",
      "                                                \n",
      "    if DE <= 0:            \n",
      "        accept_ratio = accept_ratio +1\n",
      "        spin[js] = -1 * spin[js]\n",
      "        return spin[js], DE,accept_ratio\n",
      "    \n",
      "    elif  random.uniform(0, 1) < accept[DE / (8)] :   \n",
      "        accept_ratio = accept_ratio +1\n",
      "        spin[js] = -1 * spin[js]\n",
      "        return spin[js], DE,accept_ratio\n",
      "    \n",
      "    else:\n",
      "        return 0,0,accept_ratio"
     ],
     "language": "python",
     "metadata": {},
     "outputs": [],
     "prompt_number": 29
    },
    {
     "cell_type": "code",
     "collapsed": false,
     "input": [
      "def init_measure(spin,nlist,N,Nobs):\n",
      "    \n",
      "    observable=np.zeros(Nobs)\n",
      "    \n",
      "    observable[0] = (1.0* np.sum(spin) / N)                                                                            # magnetization \n",
      "    observable[1] = -1.0* np.sum(spin[i]* (spin[nlist[i][0]] + spin[nlist[i][1]]) for i in xrange (0,N) ) / N          # energy\n",
      "    observable[2] = observable[0]**2                                                                                   # m^2\n",
      "    observable[3] = observable[1]**2                                                                                   # e^2    \n",
      "    \n",
      "    return observable"
     ],
     "language": "python",
     "metadata": {},
     "outputs": [],
     "prompt_number": 30
    },
    {
     "cell_type": "code",
     "collapsed": false,
     "input": [
      "def measure(s_k,DE,observable,N,Nobs):   \n",
      "    \n",
      "    observable[0] = observable[0] + 2.0 * s_k / N     # magnetization\n",
      "    observable[1] = observable[1] + 1.0* DE / N       # energy\n",
      "    observable[2] = observable[0]**2                                                                                   # m^2\n",
      "    observable[3] = observable[1]**2                                                                                   # e^2    \n",
      "        "
     ],
     "language": "python",
     "metadata": {},
     "outputs": [],
     "prompt_number": 31
    },
    {
     "cell_type": "code",
     "collapsed": false,
     "input": [
      "def load_observable1(Nsw,J,L,H,filename,Nobs):\n",
      "    \n",
      "    obs=np.zeros([Nobs, Nsw])\n",
      "    \n",
      "    k = open('%s/observable_J%.2f_L%i_H%.2f' %(filename , J, L,H), 'r')\n",
      "    \n",
      "    for a in xrange(0,Nsw):\n",
      "        for i in xrange(0,Nobs):\n",
      "            obs[i][a]=k.readline()\n",
      "\n",
      "    return obs"
     ],
     "language": "python",
     "metadata": {},
     "outputs": [],
     "prompt_number": 32
    },
    {
     "cell_type": "raw",
     "metadata": {},
     "source": [
      "# ilk negatif de\u011fer g\u00f6rd\u00fc\u011f\u00fc yere kadar al\u0131nd\u0131 autocorrelation function - daha guzel yazilabilirse iyi olur.\n",
      "\n",
      "autocorrelation function append seklinde degil cunku en son hali onemli bizim icin sadece. fonksiyona bakm\u0131yoruz hi\u00e7."
     ]
    },
    {
     "cell_type": "code",
     "collapsed": false,
     "input": [
      "def autocorrelation(Nsw,J,L,N,H,filename,Nobs):\n",
      "    \n",
      "    correlation = np.zeros(Nobs) \n",
      "    \n",
      "    autocorrelation= [[] for i in xrange(Nobs)] \n",
      "    \n",
      "    observable=load_observable1(Nsw,J,L,H,filename,Nobs)\n",
      "    \n",
      "    for i in xrange(0,Nobs):\n",
      "        \n",
      "        fm=np.fft.rfft(observable[i][:]-np.mean(observable[i][:]))/np.sqrt(len(observable[i][:]))\n",
      "\n",
      "        fm2=np.abs(fm)**2\n",
      "\n",
      "        cm=np.fft.irfft(fm2, len(observable[i][:])) \n",
      "        \n",
      "        cm_2= cm / cm[0]\n",
      "        \n",
      "        autocorrelation[i] = cm_2\n",
      "    \n",
      "        log_cm_2 =[]\n",
      "        \n",
      "        j=0\n",
      "        \n",
      "        while cm_2[j] > 0 :        \n",
      "            log_cm_2.append(np.log(cm_2[j]))\n",
      "            j = j+1\n",
      "        \n",
      "        x = np.linspace(0,len(log_cm_2)-1,len(log_cm_2))\n",
      "        p = np.polyfit(x,log_cm_2,1)\n",
      "        \n",
      "        #log_cm_2 = np.log(cm_2[:Nsw/400 +1])           \n",
      "        #x = np.linspace(0,Nsw/400,Nsw/400 +1)   \n",
      "        #p = np.polyfit(x,log_cm_2,1)\n",
      "    \n",
      "        tau = -1 / p[0] \n",
      "\n",
      "        correlation[i] = 2*int(np.ceil(tau))\n",
      "        \n",
      "    np.savetxt('%s/autocorrelation/autocorrelation_fnct_magnet_J%.2f_L%i_H%.2f' %(filename,J,L,H), autocorrelation[0])    \n",
      "    np.savetxt('%s/autocorrelation/autocorrelation_fnct_energy_J%.2f_L%i_H%.2f' %(filename,J,L,H), autocorrelation[1])    \n",
      "    np.savetxt('%s/autocorrelation/autocorrelation_fnct_magnet2_J%.2f_L%i_H%.2f' %(filename,J,L,H), autocorrelation[2])    \n",
      "    np.savetxt('%s/autocorrelation/autocorrelation_fnct_energy2_J%.2f_L%i_H%.2f' %(filename,J,L,H), autocorrelation[3])  \n",
      "    \n",
      "    print correlation\n",
      "    \n",
      "    corr_time = int(max(correlation[i] for i in xrange(0,Nobs)))\n",
      "    \n",
      "    k_handle = file('%s/correlation_times' %filename, 'a')\n",
      "    np.savetxt(k_handle, np.column_stack(np.append([J,H,L], corr_time)),fmt='%20.2e')\n",
      "    k_handle.close()\n",
      "    \n",
      "    return corr_time"
     ],
     "language": "python",
     "metadata": {},
     "outputs": [],
     "prompt_number": 33
    },
    {
     "cell_type": "code",
     "collapsed": false,
     "input": [
      "def blocking_seperating(darray,block_size):\n",
      "    \n",
      "    Nblock = len(darray) / block_size\n",
      "    \n",
      "    obs_blocking=np.zeros(Nblock)\n",
      "    \n",
      "    for i in xrange(0,Nblock):\n",
      "        a=  darray[block_size*i:block_size*(i+1)]\n",
      "        obs_blocking[i]= np.mean(a)\n",
      "    \n",
      "    return obs_blocking,Nblock"
     ],
     "language": "python",
     "metadata": {},
     "outputs": [],
     "prompt_number": 34
    },
    {
     "cell_type": "code",
     "collapsed": false,
     "input": [
      "def blocking_error(seperated_array,Nblock):\n",
      "    \n",
      "    error_blocking=np.sqrt(1.0*np.var(seperated_array)/(Nblock-1))\n",
      "    \n",
      "    return error_blocking"
     ],
     "language": "python",
     "metadata": {},
     "outputs": [],
     "prompt_number": 35
    },
    {
     "cell_type": "code",
     "collapsed": false,
     "input": [
      "def jackknife_delete_i(array,length):\n",
      "    \n",
      "    array_jack = [[] for k in range(length)] \n",
      "    \n",
      "    mean_obs_jack = np.zeros(length)\n",
      "    \n",
      "    for i in xrange(0,length):\n",
      "        array_jack[i] = np.delete(array,i)\n",
      "        mean_obs_jack[i] = np.mean(array_jack[i][:])\n",
      "    \n",
      "    return mean_obs_jack"
     ],
     "language": "python",
     "metadata": {},
     "outputs": [],
     "prompt_number": 36
    },
    {
     "cell_type": "code",
     "collapsed": false,
     "input": [
      "def jackknife_error(resampled_array,mean,length):\n",
      "    sigma_jack= np.sqrt(            np.sum(         pow(    (resampled_array[i]-mean),2   ) for i in xrange(0,length)   )                       )\n",
      "    \n",
      "    return sigma_jack"
     ],
     "language": "python",
     "metadata": {},
     "outputs": [],
     "prompt_number": 37
    },
    {
     "cell_type": "code",
     "collapsed": false,
     "input": [
      "def specific_heat(mean_energy,mean_energy2,J,N):\n",
      "    spec_heat=1.0*J*J*N*(    mean_energy2   -   pow(  mean_energy,2  )    )\n",
      "    return spec_heat"
     ],
     "language": "python",
     "metadata": {},
     "outputs": [],
     "prompt_number": 38
    },
    {
     "cell_type": "code",
     "collapsed": false,
     "input": [
      "def magnetic_susceptibility(mean_magnet,mean_magnet2,J,N):\n",
      "    suscept=   J*N*(     mean_magnet2  -   pow(  mean_magnet,2  )    )\n",
      "    return suscept"
     ],
     "language": "python",
     "metadata": {},
     "outputs": [],
     "prompt_number": 39
    },
    {
     "cell_type": "raw",
     "metadata": {},
     "source": [
      "ilk spin durumundaki observable yazdirilmadi. cunku program devam ettirilirse kaldigi yerden bu observable lar 2 kere yazdirilmis olacak.\n",
      "\n",
      "accept_ratio her isingde yeniden hesaplan\u0131yor ustune eklenmiyor."
     ]
    },
    {
     "cell_type": "code",
     "collapsed": false,
     "input": [
      "def ising2dmc(J,L,N,H,Nsw,max_correlation,filename,spin_read_filename,spin_write_filename,Nobs):\n",
      "    #  J = J(interaction energy) * beta(= 1/kT)  \n",
      "    # H external uniform magnetic field\n",
      "        \n",
      "    #start = time.time()\n",
      "    #print \"started timing\"\n",
      "    \n",
      "    \n",
      "    spin =  np.loadtxt('%s' %spin_read_filename) \n",
      "\n",
      "    nlist = np.zeros([N,4], dtype=np.int64)\n",
      "\n",
      "    accept = np.zeros(2, dtype=np.float64)\n",
      "    \n",
      "    accept_ratio = np.zeros(1)\n",
      "\n",
      "    initialize(accept,nlist,J,L,N)\n",
      "\n",
      "    datafile = file('%s/observable_J%.2f_L%i_H%.2f' %(filename, J,L,H), 'a')\n",
      "    observable=init_measure(spin,nlist,N,Nobs)\n",
      "    \n",
      "    #np.savetxt(datafile, observable)\n",
      "\n",
      "    for i in xrange(1,Nsw+1):\n",
      "        for j in xrange(1,max_correlation+1):\n",
      "            for k in xrange(1,N+1):\n",
      "                s_k, DE,accept_ratio[0] = MCstep(spin,nlist,N,accept,accept_ratio[0])\n",
      "                measure(s_k,DE,observable,N,Nobs)\n",
      "        np.savetxt(datafile, observable)\n",
      "        \n",
      "    accept_ratio[0] = 1.0*accept_ratio[0] / (Nsw*N*max_correlation)\n",
      "    \n",
      "    np.savetxt('%s' %spin_write_filename,spin)\n",
      "    \n",
      "    k_handle = file('%s/acceptance_ratio' %filename, 'a')\n",
      "    np.savetxt(k_handle, np.column_stack(np.append([J,H,L], accept_ratio)),fmt='%20.5e')\n",
      "    k_handle.close()\n",
      "    \n",
      "    datafile.close()\n",
      "    \n",
      "        \n",
      "    #end = time.time()\n",
      "    #print end - start"
     ],
     "language": "python",
     "metadata": {},
     "outputs": [],
     "prompt_number": 40
    },
    {
     "cell_type": "raw",
     "metadata": {},
     "source": [
      "block size iyi mi ?"
     ]
    },
    {
     "cell_type": "code",
     "collapsed": false,
     "input": [
      "def analyze(Nobserv,observable_uncorre,length,J,L,N,H):\n",
      "    \n",
      "# observable hatalari\n",
      "\n",
      "    observable_mean=np.zeros(Nobserv)\n",
      "\n",
      "    for i in xrange(Nobserv):\n",
      "        observable_mean[i]=np.mean(observable_uncorre[i])\n",
      "\n",
      "\n",
      "    block_size= length/10                  \n",
      "\n",
      "    new_observable=[ [] for i in xrange(Nobserv*2) ]\n",
      "\n",
      "    error_observable=np.zeros(Nobserv*2)\n",
      "\n",
      "    for i in xrange(Nobserv):\n",
      "        new_observable[i],Nblock = blocking_seperating(observable_uncorre[i],block_size)\n",
      "        new_observable[i+Nobserv] = jackknife_delete_i(observable_uncorre[i],length)\n",
      "    \n",
      "    \n",
      "        error_observable[i] = blocking_error(new_observable[i],Nblock)\n",
      "        error_observable[i+Nobserv] = jackknife_error(new_observable[i+Nobserv],np.mean(observable_uncorre[i]),length)\n",
      "\n",
      "\n",
      "    a_handle = file('uncorrelated/mean_observable_and_error', 'a')\n",
      "\n",
      "    np.savetxt(a_handle, np.column_stack(np.append([J, H, L], np.append(observable_mean, error_observable))) , fmt='%19.5e')\n",
      "\n",
      "    a_handle.close()\n",
      "\n",
      "\n",
      "    \n",
      "# property hesaplanmasi\n",
      "\n",
      "    properties=np.zeros(2)\n",
      "\n",
      "    properties[0] = magnetic_susceptibility(observable_mean[0],observable_mean[2],J,N)          # magnetic suscept\n",
      "    properties[1] = specific_heat(observable_mean[1],observable_mean[3],J,N)                    # specific heat\n",
      "\n",
      "# property hatalari\n",
      "    \n",
      "    error_properties=np.zeros(Nobserv)\n",
      "\n",
      "    a=np.zeros(Nblock)\n",
      "    b=np.zeros(Nblock)\n",
      "\n",
      "    for i in xrange(0,Nblock):\n",
      "        a[i]=magnetic_susceptibility(new_observable[0][i],new_observable[2][i],J,N)\n",
      "        b[i]=specific_heat(new_observable[1][i],new_observable[3][i],J,N)\n",
      "\n",
      "    error_properties[0]=blocking_error(a,Nblock)\n",
      "    error_properties[1]=blocking_error(b,Nblock)\n",
      "\n",
      "\n",
      "    c=np.zeros(length)\n",
      "    d=np.zeros(length)\n",
      "    \n",
      "    for i in xrange(length):\n",
      "        c[i]=magnetic_susceptibility(new_observable[0+Nobserv][i],new_observable[2+Nobserv][i],J,N)\n",
      "        d[i]=specific_heat(new_observable[1+Nobserv][i],new_observable[3+Nobserv][i],J,N)\n",
      "\n",
      "    error_properties[2]=jackknife_error(c,properties[0],length)\n",
      "    error_properties[3]=jackknife_error(d,properties[1],length)\n",
      "\n",
      "    print properties\n",
      "    print error_properties\n",
      "\n",
      "    k_handle = file('uncorrelated/properties_and_error', 'a')\n",
      "    np.savetxt(k_handle, np.column_stack(np.append([J, H, L], np.append(properties, error_properties))), fmt='%20.5e')\n",
      "\n",
      "    k_handle.close()"
     ],
     "language": "python",
     "metadata": {},
     "outputs": [],
     "prompt_number": 41
    },
    {
     "cell_type": "heading",
     "level": 1,
     "metadata": {},
     "source": [
      "Main Program"
     ]
    },
    {
     "cell_type": "code",
     "collapsed": false,
     "input": [
      "f_handle = open('uncorrelated/properties_and_error','a')\n",
      "f_handle.write('#            J           /        H           /       L          / Magnetic Susceptibility / Specific Heat /    Suscept Blocking   /   Heat Blocking   /  Suscept Jackknife  /  Heat Jackknife  \\n')\n",
      "f_handle.close()\n",
      "\n",
      "f_handle = open('uncorrelated/mean_observable_and_error','a')\n",
      "f_handle.write('#            J         /        H           /       L          /   Magnetization   /  Internal Energy  /     Magnet^2     /      Energy^2       / Magnet Blocking  / Energy Blocking  / Magnet^2 Blocking /  Energy^2 Blocking  / Magnet Jackknife  / Energy Jackknife  /  Magnet^2 Jackknife  /Energy^2 Jackknife     \\n')\n",
      "f_handle.close()\n",
      "\n",
      "f_handle = open('correlated/correlation_times','a')\n",
      "f_handle.write('#              J           /        H           /        L          /   Correlation Time \\n')\n",
      "f_handle.close()\n",
      "\n",
      "f_handle = open('equil/acceptance_ratio','a')\n",
      "f_handle.write('#            J           /        H           /        L          /   Acceptance Ratio \\n')\n",
      "f_handle.close()\n",
      "\n",
      "f_handle = open('correlated/acceptance_ratio','a')\n",
      "f_handle.write('#            J           /        H           /        L          /   Acceptance Ratio \\n')\n",
      "f_handle.close()\n",
      "\n",
      "f_handle = open('uncorrelated/acceptance_ratio','a')\n",
      "f_handle.write('#            J           /        H           /        L          /   Acceptance Ratio \\n')\n",
      "f_handle.close()"
     ],
     "language": "python",
     "metadata": {},
     "outputs": [],
     "prompt_number": 16
    },
    {
     "cell_type": "code",
     "collapsed": false,
     "input": [
      "Nobserv=4 \n",
      "L=16\n",
      "Temp=1.4\n",
      "J=1/Temp\n",
      "H=0.0\n",
      "N=L*L"
     ],
     "language": "python",
     "metadata": {},
     "outputs": [],
     "prompt_number": 48
    },
    {
     "cell_type": "raw",
     "metadata": {},
     "source": [
      "Optional"
     ]
    },
    {
     "cell_type": "code",
     "collapsed": false,
     "input": [
      "init_spin = np.ones(N, dtype=np.int64)  \n",
      "np.savetxt('%s/spin' %('spin'),init_spin)   "
     ],
     "language": "python",
     "metadata": {},
     "outputs": [],
     "prompt_number": 49
    },
    {
     "cell_type": "code",
     "collapsed": false,
     "input": [
      "Nsw_equil1=1000"
     ],
     "language": "python",
     "metadata": {},
     "outputs": [],
     "prompt_number": 50
    },
    {
     "cell_type": "code",
     "collapsed": false,
     "input": [
      "ising2dmc(J,L,N,H,Nsw=Nsw_equil1,max_correlation=1,filename='equil',spin_read_filename='spin/spin',spin_write_filename='spin/spin',Nobs=Nobserv)"
     ],
     "language": "python",
     "metadata": {},
     "outputs": [],
     "prompt_number": 51
    },
    {
     "cell_type": "markdown",
     "metadata": {},
     "source": [
      "Nsw_equil2=1000"
     ]
    },
    {
     "cell_type": "markdown",
     "metadata": {},
     "source": [
      "ising2dmc(J,L,N,H,Nsw=Nsw_equil2,max_correlation=1,filename='equil',spin_read_filename='spin/spin',spin_write_filename='spin/spin',Nobs=Nobserv)"
     ]
    },
    {
     "cell_type": "code",
     "collapsed": false,
     "input": [
      "Nsw_corre1=1000"
     ],
     "language": "python",
     "metadata": {},
     "outputs": [],
     "prompt_number": 52
    },
    {
     "cell_type": "code",
     "collapsed": false,
     "input": [
      "ising2dmc(J,L,N,H,Nsw=Nsw_corre1,max_correlation=1,filename='correlated',spin_read_filename='spin/spin',spin_write_filename='spin/spin',Nobs=Nobserv)\n",
      "\n",
      "tau=autocorrelation(Nsw_corre1,J,L,N,H,'correlated',Nobserv)\n",
      "\n",
      "print tau"
     ],
     "language": "python",
     "metadata": {},
     "outputs": [
      {
       "output_type": "stream",
       "stream": "stdout",
       "text": [
        "[ 4.  4.  4.  4.]\n",
        "4\n"
       ]
      }
     ],
     "prompt_number": 53
    },
    {
     "cell_type": "markdown",
     "metadata": {},
     "source": [
      "Nsw_corre2=3000"
     ]
    },
    {
     "cell_type": "markdown",
     "metadata": {},
     "source": [
      "ising2dmc(J,L,N,H,Nsw=Nsw_corre2,max_correlation=1,filename='correlated',spin_read_filename='spin/spin',spin_write_filename='spin/spin',Nobs=Nobserv)\n",
      "\n",
      "tau=autocorrelation(Nsw_corre1+Nsw_corre2,J,L,N,H,'correlated',Nobserv)\n",
      "\n",
      "print tau"
     ]
    },
    {
     "cell_type": "code",
     "collapsed": false,
     "input": [
      "Ndata=256"
     ],
     "language": "python",
     "metadata": {},
     "outputs": [],
     "prompt_number": 54
    },
    {
     "cell_type": "code",
     "collapsed": false,
     "input": [
      "ising2dmc(J,L,N,H,Nsw=Ndata,max_correlation=tau,filename='uncorrelated',spin_read_filename='spin/spin',spin_write_filename='spin/spin',Nobs=Nobserv)"
     ],
     "language": "python",
     "metadata": {},
     "outputs": [],
     "prompt_number": 55
    },
    {
     "cell_type": "code",
     "collapsed": false,
     "input": [
      "observable_uncorre=load_observable1(Ndata,J,L,H,'uncorrelated',Nobserv)\n",
      "\n",
      "length=len(observable_uncorre[0])\n",
      "\n",
      "print length"
     ],
     "language": "python",
     "metadata": {},
     "outputs": [
      {
       "output_type": "stream",
       "stream": "stdout",
       "text": [
        "256\n"
       ]
      }
     ],
     "prompt_number": 56
    },
    {
     "cell_type": "code",
     "collapsed": false,
     "input": [
      "analyze(Nobserv,observable_uncorre,length,J,L,N,H)"
     ],
     "language": "python",
     "metadata": {},
     "outputs": [
      {
       "output_type": "stream",
       "stream": "stdout",
       "text": [
        "[ 0.02113819  0.17824562]\n",
        "[ 0.00381403  0.02614568  0.00268878  0.02081913]\n"
       ]
      }
     ],
     "prompt_number": 57
    },
    {
     "cell_type": "markdown",
     "metadata": {},
     "source": [
      "Ndata2=1000"
     ]
    },
    {
     "cell_type": "markdown",
     "metadata": {},
     "source": [
      "ising2dmc(J,L,N,H,Nsw=Ndata2,max_correlation=tau,filename='uncorrelated',spin_read_filename='spin/spin',spin_write_filename='spin/spin',Nobs=Nobserv)"
     ]
    },
    {
     "cell_type": "markdown",
     "metadata": {},
     "source": [
      "observable_uncorre=load_observable1(Ndata+Ndata2,J,L,'uncorrelated',Nobserv)\n",
      "\n",
      "length=len(observable_uncorre[0])\n",
      "\n",
      "print length"
     ]
    },
    {
     "cell_type": "markdown",
     "metadata": {},
     "source": [
      "analyze(Nobserv,observable_uncorre,length,J,L,N,H)"
     ]
    },
    {
     "cell_type": "heading",
     "level": 1,
     "metadata": {},
     "source": [
      "Dogru ise analyze'in icine sokulacak. hem ising2d_run hem de ising2d_script'te"
     ]
    },
    {
     "cell_type": "raw",
     "metadata": {},
     "source": [
      "Rapora da eklendi kontrol edilmeli. "
     ]
    },
    {
     "cell_type": "raw",
     "metadata": {},
     "source": [
      "nas\u0131l bolecegiz verilere gore ? Ndata'n\u0131n icinde kac tane 2 oldu\u011fu bulunup, o kadar bunching yap\u0131labilir. fazla olan datalar ihmal.   Internet olmad\u0131g\u0131 icin yap\u0131lamad\u0131. "
     ]
    },
    {
     "cell_type": "raw",
     "metadata": {},
     "source": [
      "2 den fazla elemanla da grupland\u0131r\u0131labilir."
     ]
    },
    {
     "cell_type": "raw",
     "metadata": {},
     "source": [
      "Hatalar ayn\u0131 seviyede, uyumlu c\u0131k\u0131yor jackknife ve blocking ile."
     ]
    },
    {
     "cell_type": "raw",
     "metadata": {},
     "source": [
      "Blocking method ile ayn\u0131 asl\u0131nda. Onda da blocklara bolunup blocklar uzerinden hata hesab\u0131 yap\u0131l\u0131yordu. "
     ]
    },
    {
     "cell_type": "raw",
     "metadata": {},
     "source": [
      "kok n-1 kullan\u0131lm\u0131st\u0131 onceden standard dev. icin simdi ise kok n . fark ne?  CLT kok n olmas\u0131 gerektigini soyluyor ?"
     ]
    },
    {
     "cell_type": "code",
     "collapsed": false,
     "input": [
      "obs_bunching=observable_uncorre.tolist()\n",
      "\n",
      "poweroftwo = 8\n",
      "\n",
      "errors  = [ [] for i in xrange(Nobserv) ]\n",
      "bunches = [a for a in range(poweroftwo)] \n",
      "\n",
      "for k in range(Nobserv):\n",
      "    for i in range(poweroftwo):\n",
      "        new_obs_bunching = []\n",
      "        mean_bunching = 0.0\n",
      "        mean_sq_bunching = 0.0\n",
      "        N_bunching = len(obs_bunching[k])\n",
      "        while obs_bunching[k] != []:\n",
      "            x = obs_bunching[k].pop()\n",
      "            y = obs_bunching[k].pop()\n",
      "            mean_bunching += x + y\n",
      "            mean_sq_bunching += x ** 2 + y ** 2\n",
      "            new_obs_bunching.append((x + y) / 2.0 )\n",
      "        errors[k].append(math.sqrt(mean_sq_bunching / N_bunching - (mean_bunching / N_bunching) ** 2) / math.sqrt(N_bunching))\n",
      "        obs_bunching[k] = new_obs_bunching[:]\n",
      "\n",
      "#plt.plot(bunches, errors[0], 'ro')\n",
      "#plt.plot(bunches, errors[1], 'go')\n",
      "#plt.plot(bunches, errors[2], 'o')\n",
      "#plt.plot(bunches, errors[3], 'ko')\n",
      "#plt.xlabel('iteration')\n",
      "#plt.ylabel('naive error')\n",
      "#plt.title('Bunching: naive error vs iteration number')\n",
      "\n",
      "#plt.savefig('apparent_error_bunching.png', format='PNG')\n",
      "#plt.show()\n",
      "\n",
      "print errors[2]"
     ],
     "language": "python",
     "metadata": {},
     "outputs": [
      {
       "output_type": "stream",
       "stream": "stdout",
       "text": [
        "[0.0013204536443997624, 0.0013836877861257671, 0.0014484703458758023, 0.0013422367376281273, 0.0014347287192006547, 0.0010412408259327533, 0.001426624002838149, 0.0010813195453954973]\n"
       ]
      }
     ],
     "prompt_number": 115
    },
    {
     "cell_type": "heading",
     "level": 1,
     "metadata": {},
     "source": [
      "Timer:"
     ]
    },
    {
     "cell_type": "code",
     "collapsed": false,
     "input": [
      "import timeit\n",
      "t=timeit.Timer(\"ising2dmc(1/(1.4),32,32*32,0.0,Nsw=4000,max_correlation=1,filename='correlated',spin_read_filename='spin/spin',spin_write_filename='spin/spin',Nobs=4)\",\"from __main__ import ising2dmc\")\n",
      "print t.timeit(1)"
     ],
     "language": "python",
     "metadata": {},
     "outputs": [
      {
       "output_type": "stream",
       "stream": "stdout",
       "text": [
        "137.960281849\n"
       ]
      }
     ],
     "prompt_number": 21
    }
   ],
   "metadata": {}
  }
 ]
}