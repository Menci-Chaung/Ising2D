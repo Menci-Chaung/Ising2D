{
 "metadata": {
  "name": "ising2D_wolff_script.ipynb"
 },
 "nbformat": 3,
 "nbformat_minor": 0,
 "worksheets": [
  {
   "cells": [
    {
     "cell_type": "code",
     "collapsed": false,
     "input": [
      "import random\n",
      "import numpy as np"
     ],
     "language": "python",
     "metadata": {},
     "outputs": [],
     "prompt_number": 1
    },
    {
     "cell_type": "code",
     "collapsed": false,
     "input": [
      "def initialize(nlist,L,N):                    \n",
      "    for i in xrange(0,N):\n",
      "        nlist[i][0] = (i-1)%N\n",
      "        nlist[i][1] = (i-L)%N\n",
      "        nlist[i][2] = (i+1)%N\n",
      "        nlist[i][3] = (i+L)%N   "
     ],
     "language": "python",
     "metadata": {},
     "outputs": [],
     "prompt_number": 2
    },
    {
     "cell_type": "code",
     "collapsed": false,
     "input": [
      "def wolff_step(spin,nlist,N,Padd):\n",
      "    \n",
      "    stack = np.zeros(N)   # duzelt\n",
      "    js = random.randrange(0,N)\n",
      "    stack[0] = js\n",
      "    sp=1\n",
      "    \n",
      "    oldspin=spin[js]\n",
      "    newspin = -1*spin[js]\n",
      "    spin[js] = newspin\n",
      "    cluster_size=0\n",
      "    \n",
      "    while sp:\n",
      "        sp = sp - 1\n",
      "        current = stack[sp]\n",
      "        for i in xrange (4):\n",
      "            if spin[nlist[current][i]] == oldspin: \n",
      "                if random.uniform(0, 1) < Padd :\n",
      "                    stack[sp] = nlist[current][i]\n",
      "                    sp = sp + 1 \n",
      "                    spin[nlist[current][i]] = newspin\n",
      "                    cluster_size = cluster_size + 1\n",
      "                    \n",
      "    return cluster_size"
     ],
     "language": "python",
     "metadata": {},
     "outputs": [],
     "prompt_number": 3
    },
    {
     "cell_type": "code",
     "collapsed": false,
     "input": [
      "def measure(spin,nlist,N,Nobs):\n",
      "    \n",
      "    observable=np.zeros(Nobs)\n",
      "    \n",
      "    observable[0] = np.abs((1.0* np.sum(spin) / N)   )                                                                         # magnetization \n",
      "    observable[1] = -1.0* np.sum(spin[i]* (spin[nlist[i][0]] + spin[nlist[i][1]]) for i in xrange (0,N) ) / N          # energy\n",
      "    observable[2] = observable[0]**2                                                                                   # m^2\n",
      "    observable[3] = observable[1]**2                                                                                   # e^2    \n",
      "    \n",
      "    return observable"
     ],
     "language": "python",
     "metadata": {},
     "outputs": [],
     "prompt_number": 4
    },
    {
     "cell_type": "code",
     "collapsed": false,
     "input": [
      "def load_observable1(Nsw,J,L,H,filename,Nobs):\n",
      "    \n",
      "    obs=np.zeros([Nobs, Nsw])\n",
      "    \n",
      "    k = open('%s/observable_J%.2f_L%i_H%.2f' %(filename , J, L,H), 'r')\n",
      "    \n",
      "    for a in xrange(0,Nsw):\n",
      "        for i in xrange(0,Nobs):\n",
      "            obs[i][a]=k.readline()\n",
      "\n",
      "    return obs"
     ],
     "language": "python",
     "metadata": {},
     "outputs": [],
     "prompt_number": 5
    },
    {
     "cell_type": "code",
     "collapsed": false,
     "input": [
      "def autocorrelation(Nsw,J,L,N,H,filename,Nobs):\n",
      "    \n",
      "    autocorrelation= [[] for i in xrange(Nobs)] \n",
      "    \n",
      "    observable=load_observable1(Nsw,J,L,H,filename,Nobs)\n",
      "    \n",
      "    for i in xrange(0,Nobs):\n",
      "        \n",
      "        fm=np.fft.rfft(observable[i][:]-np.mean(observable[i][:]))/np.sqrt(len(observable[i][:]))\n",
      "\n",
      "        fm2=np.abs(fm)**2\n",
      "\n",
      "        cm=np.fft.irfft(fm2, len(observable[i][:])) \n",
      "        \n",
      "        cm_2= cm / cm[0]\n",
      "        \n",
      "        autocorrelation[i] = cm_2\n",
      "    \n",
      "        \n",
      "    np.savetxt('%s/autocorrelation/autocorrelation_fnct_magnet_J%.2f_L%i_H%.2f' %(filename,J,L,H), autocorrelation[0])    \n",
      "    np.savetxt('%s/autocorrelation/autocorrelation_fnct_energy_J%.2f_L%i_H%.2f' %(filename,J,L,H), autocorrelation[1])    \n",
      "    np.savetxt('%s/autocorrelation/autocorrelation_fnct_magnet2_J%.2f_L%i_H%.2f' %(filename,J,L,H), autocorrelation[2])    \n",
      "    np.savetxt('%s/autocorrelation/autocorrelation_fnct_energy2_J%.2f_L%i_H%.2f' %(filename,J,L,H), autocorrelation[3])  "
     ],
     "language": "python",
     "metadata": {},
     "outputs": [],
     "prompt_number": 6
    },
    {
     "cell_type": "code",
     "collapsed": false,
     "input": [
      "def correlation_time(J,L,H,filename,Nobs):\n",
      "    \n",
      "    correlation = np.zeros(Nobs) \n",
      "    \n",
      "    autocorrelation= [[] for i in xrange(Nobs)]  \n",
      "      \n",
      "    autocorrelation[0]=np.loadtxt('%s/autocorrelation/autocorrelation_fnct_magnet_J%.2f_L%i_H%.2f' %(filename,J,L,H))    \n",
      "    autocorrelation[1]=np.loadtxt('%s/autocorrelation/autocorrelation_fnct_energy_J%.2f_L%i_H%.2f' %(filename,J,L,H))    \n",
      "    autocorrelation[2]=np.loadtxt('%s/autocorrelation/autocorrelation_fnct_magnet2_J%.2f_L%i_H%.2f' %(filename,J,L,H))    \n",
      "    autocorrelation[3]=np.loadtxt('%s/autocorrelation/autocorrelation_fnct_energy2_J%.2f_L%i_H%.2f' %(filename,J,L,H))  \n",
      "\n",
      "    \n",
      "    for i in xrange(0,Nobs):\n",
      "        log_cm_2 =[]\n",
      "        \n",
      "        j=0\n",
      "        \n",
      "        while autocorrelation[i][j] > 0 :        \n",
      "            log_cm_2.append(np.log(autocorrelation[i][j]))\n",
      "            j = j+1\n",
      "        \n",
      "        x = np.linspace(0,len(log_cm_2)-1,len(log_cm_2))\n",
      "        p = np.polyfit(x,log_cm_2,1)\n",
      "        \n",
      "        #log_cm_2 = np.log(cm_2[:Nsw/400 +1])           \n",
      "        #x = np.linspace(0,Nsw/400,Nsw/400 +1)   \n",
      "        #p = np.polyfit(x,log_cm_2,1)\n",
      "    \n",
      "        tau = -1 / p[0] \n",
      "\n",
      "        correlation[i] = 2*int(np.ceil(tau))\n",
      "        \n",
      "    print correlation\n",
      "    \n",
      "    corr_time = int(max(correlation[i] for i in xrange(0,Nobs)))\n",
      "    \n",
      "    k_handle = file('%s/correlation_times' %filename, 'a')\n",
      "    np.savetxt(k_handle, np.column_stack(np.append([J,H,L], corr_time)),fmt='%20.2e')\n",
      "    k_handle.close()\n",
      "    \n",
      "    return corr_time"
     ],
     "language": "python",
     "metadata": {},
     "outputs": [],
     "prompt_number": 27
    },
    {
     "cell_type": "code",
     "collapsed": false,
     "input": [
      "def blocking_seperating(darray,block_size):\n",
      "    \n",
      "    Nblock = len(darray) / block_size\n",
      "    \n",
      "    obs_blocking=np.zeros(Nblock)\n",
      "    \n",
      "    for i in xrange(0,Nblock):\n",
      "        a=  darray[block_size*i:block_size*(i+1)]\n",
      "        obs_blocking[i]= np.mean(a)\n",
      "    \n",
      "    return obs_blocking,Nblock"
     ],
     "language": "python",
     "metadata": {},
     "outputs": [],
     "prompt_number": 8
    },
    {
     "cell_type": "code",
     "collapsed": false,
     "input": [
      "def blocking_error(seperated_array,Nblock):\n",
      "    \n",
      "    error_blocking=np.sqrt(1.0*np.var(seperated_array)/(Nblock-1))\n",
      "    \n",
      "    return error_blocking"
     ],
     "language": "python",
     "metadata": {},
     "outputs": [],
     "prompt_number": 9
    },
    {
     "cell_type": "code",
     "collapsed": false,
     "input": [
      "def jackknife_delete_i(array,length):\n",
      "    \n",
      "    array_jack = [[] for k in range(length)] \n",
      "    \n",
      "    mean_obs_jack = np.zeros(length)\n",
      "    \n",
      "    for i in xrange(0,length):\n",
      "        array_jack[i] = np.delete(array,i)\n",
      "        mean_obs_jack[i] = np.mean(array_jack[i][:])\n",
      "    \n",
      "    return mean_obs_jack"
     ],
     "language": "python",
     "metadata": {},
     "outputs": [],
     "prompt_number": 10
    },
    {
     "cell_type": "code",
     "collapsed": false,
     "input": [
      "def jackknife_error(resampled_array,mean,length):\n",
      "    sigma_jack= np.sqrt(            np.sum(         pow(    (resampled_array[i]-mean),2   ) for i in xrange(0,length)   )                       )\n",
      "    \n",
      "    return sigma_jack"
     ],
     "language": "python",
     "metadata": {},
     "outputs": [],
     "prompt_number": 11
    },
    {
     "cell_type": "code",
     "collapsed": false,
     "input": [
      "def specific_heat(mean_energy,mean_energy2,J,N):\n",
      "    spec_heat=1.0*J*J*N*(    mean_energy2   -   pow(  mean_energy,2  )    )\n",
      "    return spec_heat"
     ],
     "language": "python",
     "metadata": {},
     "outputs": [],
     "prompt_number": 12
    },
    {
     "cell_type": "code",
     "collapsed": false,
     "input": [
      "def magnetic_susceptibility(mean_magnet,mean_magnet2,J,N):\n",
      "    suscept=   J*N*(     mean_magnet2  -   pow(  mean_magnet,2  )    )\n",
      "    return suscept"
     ],
     "language": "python",
     "metadata": {},
     "outputs": [],
     "prompt_number": 13
    },
    {
     "cell_type": "code",
     "collapsed": false,
     "input": [
      "def ising2dmc(J,L,N,H,Nsw,max_correlation,filename,spin_read_filename,spin_write_filename,Nobs):\n",
      "    #  J = J(interaction energy) * beta(= 1/kT)  \n",
      "    # H external uniform magnetic field\n",
      "    \n",
      "    spin =  np.loadtxt('%s' %spin_read_filename) \n",
      "\n",
      "    nlist = np.zeros([N,4], dtype=np.int64)\n",
      "\n",
      "    Padd= 1 - np.exp(-2*J)\n",
      "    \n",
      "    initialize(nlist,L,N)\n",
      "\n",
      "    datafile = file('%s/observable_J%.2f_L%i_H%.2f' %(filename, J,L,H), 'a')\n",
      "        \n",
      "    cluster=0\n",
      "       \n",
      "    #observable=measure(spin,nlist,N,Nobs)\n",
      "    \n",
      "    #np.savetxt(datafile, observable)\n",
      "\n",
      "    for i in xrange(1,Nsw+1):\n",
      "        for j in xrange(1,max_correlation+1):\n",
      "            for k in xrange(1,N+1):\n",
      "                a=wolff_step(spin,nlist,N,Padd)\n",
      "                cluster = cluster + a\n",
      "        observable=measure(spin,nlist,N,Nobs)\n",
      "        np.savetxt(datafile, observable)\n",
      "        \n",
      "    mean_cluster = 1.0 * cluster / (Nsw*max_correlation*N*N)\n",
      "    \n",
      "    np.savetxt('%s' %spin_write_filename,spin)\n",
      "    \n",
      "    a_handle = file('%s/cluster_size' %filename, 'a')\n",
      "\n",
      "    np.savetxt(a_handle, np.column_stack(np.append([J, H, L], mean_cluster)) , fmt='%19.5e')\n",
      "\n",
      "    a_handle.close()\n",
      "\n",
      "    datafile.close()"
     ],
     "language": "python",
     "metadata": {},
     "outputs": [],
     "prompt_number": 14
    },
    {
     "cell_type": "code",
     "collapsed": false,
     "input": [
      "def analyze(Nobserv,observable_uncorre,length,J,L,N,H):\n",
      "    \n",
      "# observable hatalari\n",
      "\n",
      "    observable_mean=np.zeros(Nobserv)\n",
      "\n",
      "    for i in xrange(Nobserv):\n",
      "        observable_mean[i]=np.mean(observable_uncorre[i])\n",
      "\n",
      "\n",
      "    block_size= length/10                  \n",
      "\n",
      "    new_observable=[ [] for i in xrange(Nobserv*2) ]\n",
      "\n",
      "    error_observable=np.zeros(Nobserv*2)\n",
      "\n",
      "    for i in xrange(Nobserv):\n",
      "        new_observable[i],Nblock = blocking_seperating(observable_uncorre[i],block_size)\n",
      "        new_observable[i+Nobserv] = jackknife_delete_i(observable_uncorre[i],length)\n",
      "    \n",
      "    \n",
      "        error_observable[i] = blocking_error(new_observable[i],Nblock)\n",
      "        error_observable[i+Nobserv] = jackknife_error(new_observable[i+Nobserv],np.mean(observable_uncorre[i]),length)\n",
      "\n",
      "\n",
      "    a_handle = file('uncorrelated/mean_observable_and_error', 'a')\n",
      "\n",
      "    np.savetxt(a_handle, np.column_stack(np.append([J, H, L], np.append(observable_mean, error_observable))) , fmt='%19.5e')\n",
      "\n",
      "    a_handle.close()\n",
      "\n",
      "# property hesaplanmasi\n",
      "\n",
      "    properties=np.zeros(2)\n",
      "\n",
      "    properties[0] = magnetic_susceptibility(observable_mean[0],observable_mean[2],J,N)          # magnetic suscept\n",
      "    properties[1] = specific_heat(observable_mean[1],observable_mean[3],J,N)                    # specific heat\n",
      "\n",
      "# property hatalari\n",
      "    \n",
      "    error_properties=np.zeros(Nobserv)\n",
      "\n",
      "    a=np.zeros(Nblock)\n",
      "    b=np.zeros(Nblock)\n",
      "\n",
      "    for i in xrange(0,Nblock):\n",
      "        a[i]=magnetic_susceptibility(new_observable[0][i],new_observable[2][i],J,N)\n",
      "        b[i]=specific_heat(new_observable[1][i],new_observable[3][i],J,N)\n",
      "\n",
      "    error_properties[0]=blocking_error(a,Nblock)\n",
      "    error_properties[1]=blocking_error(b,Nblock)\n",
      "\n",
      "\n",
      "    c=np.zeros(length)\n",
      "    d=np.zeros(length)\n",
      "    \n",
      "    for i in xrange(length):\n",
      "        c[i]=magnetic_susceptibility(new_observable[0+Nobserv][i],new_observable[2+Nobserv][i],J,N)\n",
      "        d[i]=specific_heat(new_observable[1+Nobserv][i],new_observable[3+Nobserv][i],J,N)\n",
      "\n",
      "    error_properties[2]=jackknife_error(c,properties[0],length)\n",
      "    error_properties[3]=jackknife_error(d,properties[1],length)\n",
      "\n",
      "    print properties\n",
      "    print error_properties\n",
      "\n",
      "    k_handle = file('uncorrelated/properties_and_error', 'a')\n",
      "    np.savetxt(k_handle, np.column_stack(np.append([J, H, L], np.append(properties, error_properties))), fmt='%20.5e')\n",
      "\n",
      "    k_handle.close()"
     ],
     "language": "python",
     "metadata": {},
     "outputs": [],
     "prompt_number": 15
    },
    {
     "cell_type": "markdown",
     "metadata": {},
     "source": [
      "main program"
     ]
    },
    {
     "cell_type": "code",
     "collapsed": false,
     "input": [
      "f_handle = open('uncorrelated/properties_and_error','a')\n",
      "f_handle.write('#            J           /        H           /       L          / Magnetic Susceptibility / Specific Heat /    Suscept Blocking   /   Heat Blocking   /  Suscept Jackknife  /  Heat Jackknife  \\n')\n",
      "f_handle.close()\n",
      "\n",
      "f_handle = open('uncorrelated/mean_observable_and_error','a')\n",
      "f_handle.write('#            J         /        H           /       L          /   Magnetization   /  Internal Energy  /     Magnet^2     /      Energy^2       / Magnet Blocking  / Energy Blocking  / Magnet^2 Blocking /  Energy^2 Blocking  / Magnet Jackknife  / Energy Jackknife  /  Magnet^2 Jackknife  /Energy^2 Jackknife     \\n')\n",
      "f_handle.close()\n",
      "\n",
      "f_handle = open('correlated/correlation_times','a')\n",
      "f_handle.write('#              J           /        H           /        L          /   Correlation Time \\n')\n",
      "f_handle.close()"
     ],
     "language": "python",
     "metadata": {},
     "outputs": [],
     "prompt_number": 16
    },
    {
     "cell_type": "code",
     "collapsed": false,
     "input": [
      "Nobserv=4 \n",
      "L=8\n",
      "H=0.0\n",
      "N=L*L\n",
      "\n",
      "Temp= 1.2\n",
      "J= 1.0/Temp"
     ],
     "language": "python",
     "metadata": {},
     "outputs": [],
     "prompt_number": 17
    },
    {
     "cell_type": "code",
     "collapsed": false,
     "input": [
      "init_spin = np.ones(N, dtype=np.int64)  \n",
      "np.savetxt('%s/spin' %('spin'),init_spin)   "
     ],
     "language": "python",
     "metadata": {},
     "outputs": [],
     "prompt_number": 18
    },
    {
     "cell_type": "code",
     "collapsed": false,
     "input": [
      "Nsw_equil1=1000"
     ],
     "language": "python",
     "metadata": {},
     "outputs": [],
     "prompt_number": 19
    },
    {
     "cell_type": "code",
     "collapsed": false,
     "input": [
      "ising2dmc(J,L,N,H,Nsw=Nsw_equil1,max_correlation=1,filename='equil',spin_read_filename='spin/spin',spin_write_filename='spin/spin',Nobs=Nobserv)"
     ],
     "language": "python",
     "metadata": {},
     "outputs": [],
     "prompt_number": 20
    },
    {
     "cell_type": "code",
     "collapsed": false,
     "input": [
      "Nsw_corre1=2000"
     ],
     "language": "python",
     "metadata": {},
     "outputs": [],
     "prompt_number": 21
    },
    {
     "cell_type": "code",
     "collapsed": false,
     "input": [
      "ising2dmc(J,L,N,H,Nsw=Nsw_corre1,max_correlation=1,filename='correlated',spin_read_filename='spin/spin',spin_write_filename='spin/spin',Nobs=Nobserv)\n",
      "\n",
      "autocorrelation(Nsw_corre1,J,L,N,H,'correlated',Nobserv)"
     ],
     "language": "python",
     "metadata": {},
     "outputs": [],
     "prompt_number": 22
    },
    {
     "cell_type": "code",
     "collapsed": false,
     "input": [
      "tau=correlation_time(J,L,H,'correlated',Nobserv)\n",
      "print tau"
     ],
     "language": "python",
     "metadata": {},
     "outputs": [
      {
       "output_type": "stream",
       "stream": "stdout",
       "text": [
        "[ 2.  2.  2.  2.]\n",
        "2\n"
       ]
      }
     ],
     "prompt_number": 28
    },
    {
     "cell_type": "code",
     "collapsed": false,
     "input": [
      "Ndata=1000"
     ],
     "language": "python",
     "metadata": {},
     "outputs": [],
     "prompt_number": 29
    },
    {
     "cell_type": "code",
     "collapsed": false,
     "input": [
      "ising2dmc(J,L,N,H,Nsw=Ndata,max_correlation=tau,filename='uncorrelated',spin_read_filename='spin/spin',spin_write_filename='spin/spin',Nobs=Nobserv)"
     ],
     "language": "python",
     "metadata": {},
     "outputs": [],
     "prompt_number": 30
    },
    {
     "cell_type": "code",
     "collapsed": false,
     "input": [
      "observable_uncorre=load_observable1(Ndata,J,L,H,'uncorrelated',Nobserv)\n",
      "\n",
      "length=len(observable_uncorre[0])\n",
      "\n",
      "print length"
     ],
     "language": "python",
     "metadata": {},
     "outputs": [
      {
       "output_type": "stream",
       "stream": "stdout",
       "text": [
        "1000\n"
       ]
      }
     ],
     "prompt_number": 31
    },
    {
     "cell_type": "code",
     "collapsed": false,
     "input": [
      "analyze(Nobserv,observable_uncorre,length,J,L,N,H)"
     ],
     "language": "python",
     "metadata": {},
     "outputs": [
      {
       "output_type": "stream",
       "stream": "stdout",
       "text": [
        "[ 0.00697786  0.07513819]\n",
        "[ 0.00088093  0.0074365   0.0011747   0.0097811 ]\n"
       ]
      }
     ],
     "prompt_number": 32
    }
   ],
   "metadata": {}
  }
 ]
}