{
 "metadata": {
  "name": "ising2D_wolff_run.ipynb"
 },
 "nbformat": 3,
 "nbformat_minor": 0,
 "worksheets": [
  {
   "cells": [
    {
     "cell_type": "code",
     "collapsed": false,
     "input": [
      "from ising2dwolff import *\n",
      "import numpy as np"
     ],
     "language": "python",
     "metadata": {},
     "outputs": [],
     "prompt_number": 3
    },
    {
     "cell_type": "markdown",
     "metadata": {},
     "source": [
      "f_handle = open('uncorrelated/properties_and_error','a')\n",
      "f_handle.write('#            J           /        H           /       L          / Magnetic Susceptibility / Specific Heat /    Suscept Blocking   /   Heat Blocking   /  Suscept Jackknife  /  Heat Jackknife  \\n')\n",
      "f_handle.close()\n",
      "\n",
      "f_handle = open('uncorrelated/mean_observable_and_error','a')\n",
      "f_handle.write('#            J         /        H           /       L          /   Magnetization   /  Internal Energy  /     Magnet^2     /      Energy^2       / Magnet Blocking  / Energy Blocking  / Magnet^2 Blocking /  Energy^2 Blocking  / Magnet Jackknife  / Energy Jackknife  /  Magnet^2 Jackknife  /Energy^2 Jackknife     \\n')\n",
      "f_handle.close()\n",
      "\n",
      "f_handle = open('correlated/correlation_times','a')\n",
      "f_handle.write('#              J           /        H           /        L          /   Correlation Time \\n')\n",
      "f_handle.close()\n",
      "\n",
      "f_handle = open('equil/cluster_size','a')\n",
      "f_handle.write('#            J           /        H           /        L          /   Cluster Size \\n')\n",
      "f_handle.close()\n",
      "\n",
      "f_handle = open('correlated/cluster_size','a')\n",
      "f_handle.write('#            J           /        H           /        L          /   Cluster Size \\n')\n",
      "f_handle.close()\n",
      "\n",
      "f_handle = open('uncorrelated/cluster_size','a')\n",
      "f_handle.write('#            J           /        H           /        L          /   Cluster Size \\n')\n",
      "f_handle.close()"
     ]
    },
    {
     "cell_type": "code",
     "collapsed": false,
     "input": [
      "Nobserv=4 \n",
      "L=32\n",
      "H=0.0\n",
      "N=L*L\n",
      "\n",
      "Temp = 2.269\n",
      "J= 1.0/Temp"
     ],
     "language": "python",
     "metadata": {},
     "outputs": [],
     "prompt_number": 36
    },
    {
     "cell_type": "code",
     "collapsed": false,
     "input": [
      "init_spin = np.ones(N, dtype=np.int64)  \n",
      "np.savetxt('%s/spin' %('spin'),init_spin)   "
     ],
     "language": "python",
     "metadata": {},
     "outputs": [],
     "prompt_number": 37
    },
    {
     "cell_type": "code",
     "collapsed": false,
     "input": [
      "Nsw_equil1=100"
     ],
     "language": "python",
     "metadata": {},
     "outputs": [],
     "prompt_number": 38
    },
    {
     "cell_type": "code",
     "collapsed": false,
     "input": [
      "ising2dmc(J,L,N,H,Nsw=Nsw_equil1,max_correlation=1,filename='equil',spin_read_filename='spin/spin',spin_write_filename='spin/spin',Nobs=Nobserv)"
     ],
     "language": "python",
     "metadata": {},
     "outputs": [],
     "prompt_number": 39
    },
    {
     "cell_type": "code",
     "collapsed": false,
     "input": [
      "Nsw_corre1=500"
     ],
     "language": "python",
     "metadata": {},
     "outputs": [],
     "prompt_number": 33
    },
    {
     "cell_type": "code",
     "collapsed": false,
     "input": [
      "ising2dmc(J,L,N,H,Nsw=Nsw_corre1,max_correlation=1,filename='correlated',spin_read_filename='spin/spin',spin_write_filename='spin/spin',Nobs=Nobserv)"
     ],
     "language": "python",
     "metadata": {},
     "outputs": [],
     "prompt_number": 34
    },
    {
     "cell_type": "code",
     "collapsed": false,
     "input": [
      "autocorrelation(Nsw_corre1,J,L,N,H,'correlated',Nobserv)"
     ],
     "language": "python",
     "metadata": {},
     "outputs": [],
     "prompt_number": 35
    },
    {
     "cell_type": "code",
     "collapsed": false,
     "input": [
      "tau=correlation_time(J,L,H,'correlated',Nobserv)\n",
      "print tau"
     ],
     "language": "python",
     "metadata": {},
     "outputs": [
      {
       "output_type": "stream",
       "stream": "stdout",
       "text": [
        "[ 2.  2.  2.  2.]\n",
        "2\n"
       ]
      }
     ],
     "prompt_number": 31
    },
    {
     "cell_type": "code",
     "collapsed": false,
     "input": [
      "tau=2"
     ],
     "language": "python",
     "metadata": {},
     "outputs": [],
     "prompt_number": 32
    },
    {
     "cell_type": "code",
     "collapsed": false,
     "input": [
      "Ndata=1000"
     ],
     "language": "python",
     "metadata": {},
     "outputs": [],
     "prompt_number": 33
    },
    {
     "cell_type": "code",
     "collapsed": false,
     "input": [
      "ising2dmc(J,L,N,H,Nsw=Ndata,max_correlation=tau,filename='uncorrelated',spin_read_filename='spin/spin',spin_write_filename='spin/spin',Nobs=Nobserv)"
     ],
     "language": "python",
     "metadata": {},
     "outputs": [],
     "prompt_number": 34
    },
    {
     "cell_type": "code",
     "collapsed": false,
     "input": [
      "observable_uncorre=load_observable1(Ndata,J,L,H,'uncorrelated',Nobserv)\n",
      "\n",
      "length=len(observable_uncorre[0])\n",
      "\n",
      "print length"
     ],
     "language": "python",
     "metadata": {},
     "outputs": [
      {
       "output_type": "stream",
       "stream": "stdout",
       "text": [
        "1000\n"
       ]
      }
     ],
     "prompt_number": 35
    },
    {
     "cell_type": "code",
     "collapsed": false,
     "input": [
      "analyze(Nobserv,observable_uncorre,length,J,L,N,H)"
     ],
     "language": "python",
     "metadata": {},
     "outputs": [
      {
       "output_type": "stream",
       "stream": "stdout",
       "text": [
        "[ 0.170702    0.56106775]\n",
        "[ 0.01321311  0.0338058   0.0187775   0.03518002]\n"
       ]
      }
     ],
     "prompt_number": 36
    },
    {
     "cell_type": "raw",
     "metadata": {},
     "source": [
      "loop"
     ]
    },
    {
     "cell_type": "code",
     "collapsed": false,
     "input": [
      "from ising2dwolff import *\n",
      "import numpy as np"
     ],
     "language": "python",
     "metadata": {},
     "outputs": [],
     "prompt_number": 1
    },
    {
     "cell_type": "code",
     "collapsed": false,
     "input": [
      "Nobserv=4 \n",
      "L=4\n",
      "H=0.0\n",
      "N=L*L"
     ],
     "language": "python",
     "metadata": {},
     "outputs": [],
     "prompt_number": 2
    },
    {
     "cell_type": "code",
     "collapsed": false,
     "input": [
      "init_spin = np.ones(N, dtype=np.int64)  \n",
      "np.savetxt('%s/spin' %('spin'),init_spin)   "
     ],
     "language": "python",
     "metadata": {},
     "outputs": [],
     "prompt_number": 15
    },
    {
     "cell_type": "code",
     "collapsed": false,
     "input": [
      "for i in xrange(16,22,2):\n",
      "    Temp=i/10.0\n",
      "    print Temp\n",
      "    J= 1.0/Temp\n",
      "    Nsw_equil1=100\n",
      "    ising2dmc(J,L,N,H,Nsw=Nsw_equil1,max_correlation=1,filename='equil',spin_read_filename='spin/spin',spin_write_filename='spin/spin',Nobs=Nobserv)\n",
      "    Nsw_corre1=100\n",
      "    ising2dmc(J,L,N,H,Nsw=Nsw_corre1,max_correlation=1,filename='correlated',spin_read_filename='spin/spin',spin_write_filename='spin/spin',Nobs=Nobserv)\n",
      "    autocorrelation(Nsw_corre1,J,L,N,H,'correlated',Nobserv)\n",
      "    tau=correlation_time(J,L,H,'correlated',Nobserv)\n",
      "    #print tau\n",
      "    Ndata=300\n",
      "    ising2dmc(J,L,N,H,Nsw=Ndata,max_correlation=tau,filename='uncorrelated',spin_read_filename='spin/spin',spin_write_filename='spin/spin',Nobs=Nobserv)\n",
      "    observable_uncorre=load_observable1(Ndata,J,L,H,'uncorrelated',Nobserv)\n",
      "\n",
      "    length=len(observable_uncorre[0])\n",
      "\n",
      "    #print length\n",
      "    analyze(Nobserv,observable_uncorre,length,J,L,N,H)"
     ],
     "language": "python",
     "metadata": {},
     "outputs": [
      {
       "output_type": "stream",
       "stream": "stdout",
       "text": [
        "1.6\n",
        "[ 2.  2.  2.  2.]"
       ]
      },
      {
       "output_type": "stream",
       "stream": "stdout",
       "text": [
        "\n",
        "[ 0.03986589  0.23275596]"
       ]
      },
      {
       "output_type": "stream",
       "stream": "stdout",
       "text": [
        "\n",
        "[ 0.00402495  0.02209415  0.00409386  0.01875165]\n",
        "1.8\n",
        "[ 2.  2.  2.  2.]"
       ]
      },
      {
       "output_type": "stream",
       "stream": "stdout",
       "text": [
        "\n",
        "[ 0.12168771  0.42526397]"
       ]
      },
      {
       "output_type": "stream",
       "stream": "stdout",
       "text": [
        "\n",
        "[ 0.02103174  0.04390956  0.01725208  0.03911331]\n",
        "2.0\n",
        "[ 2.  2.  2.  2.]"
       ]
      },
      {
       "output_type": "stream",
       "stream": "stdout",
       "text": [
        "\n",
        "[ 0.38596987  0.66007492]"
       ]
      },
      {
       "output_type": "stream",
       "stream": "stdout",
       "text": [
        "\n",
        "[ 0.04920255  0.05212303  0.06247762  0.0577724 ]\n"
       ]
      }
     ],
     "prompt_number": 16
    },
    {
     "cell_type": "code",
     "collapsed": false,
     "input": [
      "for i in xrange(2200,2500,25):\n",
      "    Temp=i/1000.0\n",
      "    print Temp\n",
      "    J= 1.0/Temp\n",
      "    Nsw_equil1=100\n",
      "    ising2dmc(J,L,N,H,Nsw=Nsw_equil1,max_correlation=1,filename='equil',spin_read_filename='spin/spin',spin_write_filename='spin/spin',Nobs=Nobserv)\n",
      "    Nsw_corre1=100\n",
      "    ising2dmc(J,L,N,H,Nsw=Nsw_corre1,max_correlation=1,filename='correlated',spin_read_filename='spin/spin',spin_write_filename='spin/spin',Nobs=Nobserv)\n",
      "    autocorrelation(Nsw_corre1,J,L,N,H,'correlated',Nobserv)\n",
      "    tau=correlation_time(J,L,H,'correlated',Nobserv)\n",
      "    #print tau\n",
      "    Ndata=300\n",
      "    ising2dmc(J,L,N,H,Nsw=Ndata,max_correlation=tau,filename='uncorrelated',spin_read_filename='spin/spin',spin_write_filename='spin/spin',Nobs=Nobserv)\n",
      "    observable_uncorre=load_observable1(Ndata,J,L,H,'uncorrelated',Nobserv)\n",
      "\n",
      "    length=len(observable_uncorre[0])\n",
      "\n",
      "    #print length\n",
      "    analyze(Nobserv,observable_uncorre,length,J,L,N,H)"
     ],
     "language": "python",
     "metadata": {},
     "outputs": [
      {
       "output_type": "stream",
       "stream": "stdout",
       "text": [
        "2.2\n",
        "[ 4.  4.  4.  4.]"
       ]
      },
      {
       "output_type": "stream",
       "stream": "stdout",
       "text": [
        "\n",
        "[ 1.66038507  1.10940688]"
       ]
      },
      {
       "output_type": "stream",
       "stream": "stdout",
       "text": [
        "\n",
        "[ 0.23087953  0.11131646  0.20381019  0.08066721]\n",
        "2.225\n",
        "[ 10.   8.   8.   6.]"
       ]
      },
      {
       "output_type": "stream",
       "stream": "stdout",
       "text": [
        "\n",
        "[ 9.18267704  2.36637854]"
       ]
      },
      {
       "output_type": "stream",
       "stream": "stdout",
       "text": [
        "\n",
        "[ 2.75819225  0.44808116  1.3192322   0.22035495]\n",
        "2.25\n",
        "[ 2.  4.  4.  2.]"
       ]
      },
      {
       "output_type": "stream",
       "stream": "stdout",
       "text": [
        "\n",
        "[ 7.00821437  1.70198073]"
       ]
      },
      {
       "output_type": "stream",
       "stream": "stdout",
       "text": [
        "\n",
        "[ 1.95742672  0.18872233  1.14832641  0.12964065]\n",
        "2.275\n",
        "[ 6.  8.  8.  6.]"
       ]
      },
      {
       "output_type": "stream",
       "stream": "stdout",
       "text": [
        "\n",
        "[ 11.89357872   1.78769583]"
       ]
      },
      {
       "output_type": "stream",
       "stream": "stdout",
       "text": [
        "\n",
        "[ 1.97178333  0.25032096  1.16281872  0.13340766]\n",
        "2.3"
       ]
      },
      {
       "output_type": "stream",
       "stream": "stdout",
       "text": [
        "\n",
        "[ 4.  4.  6.  4.]"
       ]
      },
      {
       "output_type": "stream",
       "stream": "stdout",
       "text": [
        "\n",
        "[ 10.19655582   1.90846198]"
       ]
      },
      {
       "output_type": "stream",
       "stream": "stdout",
       "text": [
        "\n",
        "[ 1.36060935  0.29277151  0.85540506  0.15213457]\n",
        "2.325\n",
        "[ 8.  8.  8.  8.]"
       ]
      },
      {
       "output_type": "stream",
       "stream": "stdout",
       "text": [
        "\n",
        "[ 9.50532603  1.1430882 ]"
       ]
      },
      {
       "output_type": "stream",
       "stream": "stdout",
       "text": [
        "\n",
        "[ 1.54745503  0.08573943  0.93888277  0.07527521]\n",
        "2.35\n",
        "[ 4.  4.  4.  6.]"
       ]
      },
      {
       "output_type": "stream",
       "stream": "stdout",
       "text": [
        "\n",
        "[ 10.64904925   1.86469359]"
       ]
      },
      {
       "output_type": "stream",
       "stream": "stdout",
       "text": [
        "\n",
        "[ 1.21971004  0.19685819  0.79769685  0.11506489]\n",
        "2.375\n",
        "[ 6.  6.  6.  6.]"
       ]
      },
      {
       "output_type": "stream",
       "stream": "stdout",
       "text": [
        "\n",
        "[ 12.58343012   1.67289901]"
       ]
      },
      {
       "output_type": "stream",
       "stream": "stdout",
       "text": [
        "\n",
        "[ 1.4901037   0.237288    0.73018522  0.1230776 ]\n",
        "2.4\n",
        "[ 4.  8.  4.  8.]"
       ]
      },
      {
       "output_type": "stream",
       "stream": "stdout",
       "text": [
        "\n",
        "[ 11.2493687    1.35488356]"
       ]
      },
      {
       "output_type": "stream",
       "stream": "stdout",
       "text": [
        "\n",
        "[ 1.30514757  0.22962617  0.64484994  0.1143057 ]\n",
        "2.425\n",
        "[ 4.  4.  4.  4.]"
       ]
      },
      {
       "output_type": "stream",
       "stream": "stdout",
       "text": [
        "\n",
        "[ 11.76446287   1.76970859]"
       ]
      },
      {
       "output_type": "stream",
       "stream": "stdout",
       "text": [
        "\n",
        "[ 0.63263302  0.17387802  0.60805559  0.12368164]\n",
        "2.45"
       ]
      },
      {
       "output_type": "stream",
       "stream": "stdout",
       "text": [
        "\n",
        "[ 10.   4.  12.   2.]"
       ]
      },
      {
       "output_type": "stream",
       "stream": "stdout",
       "text": [
        "\n",
        "[ 7.62736618  1.07274495]"
       ]
      },
      {
       "output_type": "stream",
       "stream": "stdout",
       "text": [
        "\n",
        "[ 0.82320724  0.12530795  0.45940231  0.0837752 ]\n",
        "2.475"
       ]
      },
      {
       "output_type": "stream",
       "stream": "stdout",
       "text": [
        "\n",
        "[ 10.  12.  16.  12.]"
       ]
      },
      {
       "output_type": "stream",
       "stream": "stdout",
       "text": [
        "\n",
        "[ 7.18674632  1.13714695]"
       ]
      },
      {
       "output_type": "stream",
       "stream": "stdout",
       "text": [
        "\n",
        "[ 0.75849963  0.10233785  0.43986115  0.08654221]\n"
       ]
      }
     ],
     "prompt_number": 17
    },
    {
     "cell_type": "code",
     "collapsed": false,
     "input": [
      "for i in xrange(25,32,2):\n",
      "    Temp=i/10.0\n",
      "    print Temp\n",
      "    J= 1.0/Temp\n",
      "    Nsw_equil1=100\n",
      "    ising2dmc(J,L,N,H,Nsw=Nsw_equil1,max_correlation=1,filename='equil',spin_read_filename='spin/spin',spin_write_filename='spin/spin',Nobs=Nobserv)\n",
      "    Nsw_corre1=100\n",
      "    ising2dmc(J,L,N,H,Nsw=Nsw_corre1,max_correlation=1,filename='correlated',spin_read_filename='spin/spin',spin_write_filename='spin/spin',Nobs=Nobserv)\n",
      "    autocorrelation(Nsw_corre1,J,L,N,H,'correlated',Nobserv)\n",
      "    tau=correlation_time(J,L,H,'correlated',Nobserv)\n",
      "    #print tau\n",
      "    Ndata=300\n",
      "    ising2dmc(J,L,N,H,Nsw=Ndata,max_correlation=tau,filename='uncorrelated',spin_read_filename='spin/spin',spin_write_filename='spin/spin',Nobs=Nobserv)\n",
      "    observable_uncorre=load_observable1(Ndata,J,L,H,'uncorrelated',Nobserv)\n",
      "\n",
      "    length=len(observable_uncorre[0])\n",
      "\n",
      "    #print length\n",
      "    analyze(Nobserv,observable_uncorre,length,J,L,N,H)"
     ],
     "language": "python",
     "metadata": {},
     "outputs": [
      {
       "output_type": "stream",
       "stream": "stdout",
       "text": [
        "2.5\n",
        "[ 14.   8.  12.   8.]"
       ]
      },
      {
       "output_type": "stream",
       "stream": "stdout",
       "text": [
        "\n",
        "[ 8.15582099  1.72652069]"
       ]
      },
      {
       "output_type": "stream",
       "stream": "stdout",
       "text": [
        "\n",
        "[ 0.74578084  0.33787416  0.54330442  0.13177496]\n",
        "2.7\n",
        "[ 14.  18.   8.  18.]"
       ]
      },
      {
       "output_type": "stream",
       "stream": "stdout",
       "text": [
        "\n",
        "[ 2.68556524  0.62037528]"
       ]
      },
      {
       "output_type": "stream",
       "stream": "stdout",
       "text": [
        "\n",
        "[ 0.35358302  0.04466993  0.23785019  0.05545427]\n",
        "2.9\n",
        "[  6.   8.   8.  10.]"
       ]
      },
      {
       "output_type": "stream",
       "stream": "stdout",
       "text": [
        "\n",
        "[ 1.71283674  0.27949913]"
       ]
      },
      {
       "output_type": "stream",
       "stream": "stdout",
       "text": [
        "\n",
        "[ 0.21825476  0.03943774  0.11982505  0.01899744]\n",
        "3.1\n",
        "[  8.  22.   6.  22.]"
       ]
      },
      {
       "output_type": "stream",
       "stream": "stdout",
       "text": [
        "\n",
        "[ 1.27434137  0.20279451]"
       ]
      },
      {
       "output_type": "stream",
       "stream": "stdout",
       "text": [
        "\n",
        "[ 0.16324753  0.01700146  0.08809017  0.01508816]\n"
       ]
      }
     ],
     "prompt_number": 18
    },
    {
     "cell_type": "code",
     "collapsed": false,
     "input": [],
     "language": "python",
     "metadata": {},
     "outputs": []
    }
   ],
   "metadata": {}
  }
 ]
}