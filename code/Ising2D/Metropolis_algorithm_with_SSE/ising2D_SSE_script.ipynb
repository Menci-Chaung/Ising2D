{
 "metadata": {
  "name": "ising2D_SSE_script.ipynb"
 },
 "nbformat": 3,
 "nbformat_minor": 0,
 "worksheets": [
  {
   "cells": [
    {
     "cell_type": "code",
     "collapsed": false,
     "input": [
      "import random\n",
      "import numpy as np\n",
      "import math\n",
      "#import time"
     ],
     "language": "python",
     "metadata": {},
     "outputs": [],
     "prompt_number": 1
    },
    {
     "cell_type": "code",
     "collapsed": false,
     "input": [
      "def initialize(nlist,L,N):              \n",
      "    \n",
      "    for i in xrange(0,N):\n",
      "        nlist[i][0] = (i-1)%N\n",
      "        nlist[i][1] = (i-L)%N\n",
      "        nlist[i][2] = (i+1)%N\n",
      "        nlist[i][3] = (i+L)%N   "
     ],
     "language": "python",
     "metadata": {},
     "outputs": [],
     "prompt_number": 2
    },
    {
     "cell_type": "code",
     "collapsed": false,
     "input": [
      "def MCstep(init_n,spin,nlist,J,N,accept_ratio_spin,accept_ratio_n,Num_n,Num_spin,E):\n",
      "    \n",
      "    epsilon = 2.0*J*N   \n",
      "    \n",
      "    for i in xrange(0,Num_n):\n",
      "    \n",
      "        new_n = random.randrange(init_n-1,init_n+2)    \n",
      "    \n",
      "        if new_n == 0:\n",
      "            new_n=new_n+1\n",
      "    \n",
      "        cond = J*(epsilon - E )\n",
      "    \n",
      "        if new_n == init_n:\n",
      "            init_n=new_n\n",
      "            accept_ratio_n = accept_ratio_n +1\n",
      "    \n",
      "        elif new_n == init_n+1 and cond >= init_n+1:\n",
      "            init_n=new_n\n",
      "            accept_ratio_n = accept_ratio_n +1\n",
      "        \n",
      "        elif new_n == init_n-1 and cond <= init_n:\n",
      "            init_n=new_n\n",
      "            accept_ratio_n = accept_ratio_n +1\n",
      "    \n",
      "        elif new_n == init_n+1 and cond < init_n+1:\n",
      "            if random.uniform(0,1) < cond/(init_n+1):\n",
      "                init_n=new_n\n",
      "                accept_ratio_n = accept_ratio_n +1\n",
      "    \n",
      "        else:\n",
      "            if random.uniform(0,1) < init_n/cond:\n",
      "                init_n=new_n\n",
      "                accept_ratio_n = accept_ratio_n +1\n",
      "    \n",
      "    #kontrol parametresi girilecek\n",
      "    \n",
      "    js = random.randrange(0,N) \n",
      "    \n",
      "    MF = (spin[nlist[js][0]] + spin[nlist[js][1]] + spin[nlist[js][2]] + spin[nlist[js][3]])\n",
      "    \n",
      "    DE = 2*spin[js]*MF       \n",
      "                                                \n",
      "    if DE <= 0:         \n",
      "        accept_ratio_spin = accept_ratio_spin +1\n",
      "        spin[js] = -1 * spin[js]\n",
      "        return spin[js], DE,accept_ratio_spin,init_n,accept_ratio_n\n",
      "        \n",
      "    else:   \n",
      "         \n",
      "        #accept = pow((epsilon - (DE + E)),init_n) / pow((epsilon - E ),init_n)\n",
      "        accept = pow((epsilon- (DE + E)) / (epsilon - E),init_n)\n",
      "        \n",
      "        if random.uniform(0, 1) < accept :   \n",
      "            accept_ratio_spin = accept_ratio_spin +1\n",
      "            spin[js] = -1 * spin[js]\n",
      "            return spin[js], DE,accept_ratio_spin,init_n,accept_ratio_n\n",
      "            \n",
      "        else:\n",
      "            return 0,0,accept_ratio_spin,init_n,accept_ratio_n"
     ],
     "language": "python",
     "metadata": {},
     "outputs": [],
     "prompt_number": 3
    },
    {
     "cell_type": "code",
     "collapsed": false,
     "input": [
      "def init_measure(spin,nlist,N,Nobs):\n",
      "    \n",
      "    observable=np.zeros(Nobs)\n",
      "    \n",
      "    observable[0] = (1.0* np.sum(spin) / N)                                                                            # magnetization \n",
      "    observable[1] = -1.0* np.sum(spin[i]* (spin[nlist[i][0]] + spin[nlist[i][1]]) for i in xrange (0,N) ) / N          # energy\n",
      "    observable[2] = observable[0]**2                                                                                   # m^2\n",
      "    observable[3] = observable[1]**2                                                                                   # e^2    \n",
      "    \n",
      "    return observable"
     ],
     "language": "python",
     "metadata": {},
     "outputs": [],
     "prompt_number": 4
    },
    {
     "cell_type": "code",
     "collapsed": false,
     "input": [
      "def measure(s_k,DE,observable,N,Nobs):   \n",
      "    \n",
      "    observable[0] = observable[0] + 2.0 * s_k / N     # magnetization\n",
      "    observable[1] = observable[1] + 1.0* DE / N       # energy\n",
      "    observable[2] = observable[0]**2                                                                                   # m^2\n",
      "    observable[3] = observable[1]**2                                                                                   # e^2    \n",
      "        "
     ],
     "language": "python",
     "metadata": {},
     "outputs": [],
     "prompt_number": 5
    },
    {
     "cell_type": "code",
     "collapsed": false,
     "input": [
      "def load_observable1(Nsw,J,L,H,filename,Nobs):\n",
      "    \n",
      "    obs=np.zeros([Nobs, Nsw])\n",
      "    \n",
      "    k = open('%s/observable_J%.2f_L%i_H%.2f' %(filename , J, L,H), 'r')\n",
      "    \n",
      "    for a in xrange(0,Nsw):\n",
      "        for i in xrange(0,Nobs):\n",
      "            obs[i][a]=k.readline()\n",
      "\n",
      "    return obs"
     ],
     "language": "python",
     "metadata": {},
     "outputs": [],
     "prompt_number": 6
    },
    {
     "cell_type": "code",
     "collapsed": false,
     "input": [
      "def autocorrelation(Nsw,J,L,N,H,filename,Nobs):\n",
      "    \n",
      "    correlation = np.zeros(Nobs) \n",
      "    \n",
      "    autocorrelation= [[] for i in xrange(Nobs)] \n",
      "    \n",
      "    observable=load_observable1(Nsw,J,L,H,filename,Nobs)\n",
      "    \n",
      "    for i in xrange(0,Nobs):\n",
      "        \n",
      "        fm=np.fft.rfft(observable[i][:]-np.mean(observable[i][:]))/np.sqrt(len(observable[i][:]))\n",
      "\n",
      "        fm2=np.abs(fm)**2\n",
      "\n",
      "        cm=np.fft.irfft(fm2, len(observable[i][:])) \n",
      "        \n",
      "        cm_2= cm / cm[0]\n",
      "        \n",
      "        autocorrelation[i] = cm_2\n",
      "    \n",
      "        log_cm_2 =[]\n",
      "        \n",
      "        j=0\n",
      "        \n",
      "        while cm_2[j] > 0 :        \n",
      "            log_cm_2.append(np.log(cm_2[j]))\n",
      "            j = j+1\n",
      "        \n",
      "        x = np.linspace(0,len(log_cm_2)-1,len(log_cm_2))\n",
      "        p = np.polyfit(x,log_cm_2,1)\n",
      "        \n",
      "        #log_cm_2 = np.log(cm_2[:Nsw/400 +1])           \n",
      "        #x = np.linspace(0,Nsw/400,Nsw/400 +1)   \n",
      "        #p = np.polyfit(x,log_cm_2,1)\n",
      "    \n",
      "        tau = -1 / p[0] \n",
      "\n",
      "        correlation[i] = 2*int(np.ceil(tau))\n",
      "        \n",
      "    np.savetxt('%s/autocorrelation/autocorrelation_fnct_magnet_J%.2f_L%i_H%.2f' %(filename,J,L,H), autocorrelation[0])    \n",
      "    np.savetxt('%s/autocorrelation/autocorrelation_fnct_energy_J%.2f_L%i_H%.2f' %(filename,J,L,H), autocorrelation[1])    \n",
      "    np.savetxt('%s/autocorrelation/autocorrelation_fnct_magnet2_J%.2f_L%i_H%.2f' %(filename,J,L,H), autocorrelation[2])    \n",
      "    np.savetxt('%s/autocorrelation/autocorrelation_fnct_energy2_J%.2f_L%i_H%.2f' %(filename,J,L,H), autocorrelation[3])  \n",
      "    \n",
      "    print correlation\n",
      "    \n",
      "    corr_time = int(max(correlation[i] for i in xrange(0,Nobs)))\n",
      "    \n",
      "    k_handle = file('%s/correlation_times' %filename, 'a')\n",
      "    np.savetxt(k_handle, np.column_stack(np.append([J,H,L], corr_time)),fmt='%20.2e')\n",
      "    k_handle.close()\n",
      "    \n",
      "    return corr_time"
     ],
     "language": "python",
     "metadata": {},
     "outputs": [],
     "prompt_number": 7
    },
    {
     "cell_type": "code",
     "collapsed": false,
     "input": [
      "def blocking_seperating(darray,block_size):\n",
      "    \n",
      "    Nblock = len(darray) / block_size\n",
      "    \n",
      "    obs_blocking=np.zeros(Nblock)\n",
      "    \n",
      "    for i in xrange(0,Nblock):\n",
      "        a=  darray[block_size*i:block_size*(i+1)]\n",
      "        obs_blocking[i]= np.mean(a)\n",
      "    \n",
      "    return obs_blocking,Nblock"
     ],
     "language": "python",
     "metadata": {},
     "outputs": [],
     "prompt_number": 8
    },
    {
     "cell_type": "code",
     "collapsed": false,
     "input": [
      "def blocking_error(seperated_array,Nblock):\n",
      "    \n",
      "    error_blocking=np.sqrt(1.0*np.var(seperated_array)/(Nblock-1))\n",
      "    \n",
      "    return error_blocking"
     ],
     "language": "python",
     "metadata": {},
     "outputs": [],
     "prompt_number": 9
    },
    {
     "cell_type": "code",
     "collapsed": false,
     "input": [
      "def jackknife_delete_i(array,length):\n",
      "    \n",
      "    array_jack = [[] for k in range(length)] \n",
      "    \n",
      "    mean_obs_jack = np.zeros(length)\n",
      "    \n",
      "    for i in xrange(0,length):\n",
      "        array_jack[i] = np.delete(array,i)\n",
      "        mean_obs_jack[i] = np.mean(array_jack[i][:])\n",
      "    \n",
      "    return mean_obs_jack"
     ],
     "language": "python",
     "metadata": {},
     "outputs": [],
     "prompt_number": 10
    },
    {
     "cell_type": "code",
     "collapsed": false,
     "input": [
      "def jackknife_error(resampled_array,mean,length):\n",
      "    sigma_jack= np.sqrt(            np.sum(         pow(    (resampled_array[i]-mean),2   ) for i in xrange(0,length)   )                       )\n",
      "    \n",
      "    return sigma_jack"
     ],
     "language": "python",
     "metadata": {},
     "outputs": [],
     "prompt_number": 11
    },
    {
     "cell_type": "code",
     "collapsed": false,
     "input": [
      "def specific_heat(mean_energy,mean_energy2,J,N):\n",
      "    spec_heat=1.0*J*J*N*(    mean_energy2   -   pow(  mean_energy,2  )    )\n",
      "    return spec_heat"
     ],
     "language": "python",
     "metadata": {},
     "outputs": [],
     "prompt_number": 12
    },
    {
     "cell_type": "code",
     "collapsed": false,
     "input": [
      "def magnetic_susceptibility(mean_magnet,mean_magnet2,J,N):\n",
      "    suscept=   J*N*(     mean_magnet2  -   pow(  mean_magnet,2  )    )\n",
      "    return suscept"
     ],
     "language": "python",
     "metadata": {},
     "outputs": [],
     "prompt_number": 13
    },
    {
     "cell_type": "code",
     "collapsed": false,
     "input": [
      "def ising2dmc(J,L,N,H,Nsw,max_correlation,filename,spin_read_filename,spin_write_filename,n_read_filename,n_write_filename,Nobs,Num_n,Num_spin):\n",
      "    #  J = J(interaction energy) * beta(= 1/kT)  \n",
      "    # H external uniform magnetic field\n",
      "    \n",
      "    \n",
      "    #start = time.time()\n",
      "    #print \"started timing\"\n",
      "    \n",
      "    spin =  np.loadtxt('%s' %spin_read_filename) \n",
      "    \n",
      "    init_n = int(np.loadtxt('%s' %n_read_filename))  #\u00a0ilk n degeri okunuyor. onceki simulasyonun kald\u0131g\u0131 yerden devam edilebilir. \n",
      "    \n",
      "    nlist = np.zeros([N,4], dtype=np.int64)\n",
      "\n",
      "    accept_ratio_spin = np.zeros(1)\n",
      "    accept_ratio_n = np.zeros(1)\n",
      "\n",
      "    initialize(nlist,L,N)\n",
      "\n",
      "    datafile = file('%s/observable_J%.2f_L%i_H%.2f' %(filename, J,L,H), 'a')\n",
      "    datafile2= file('%s/n_J%.2f_L%i_H%.2f' %(filename, J,L,H), 'a')   \n",
      "    datafile3= file('%s/n2_J%.2f_L%i_H%.2f' %(filename, J,L,H), 'a')\n",
      "    observable=init_measure(spin,nlist,N,Nobs)\n",
      "    \n",
      "    #np.savetxt(datafile, observable)\n",
      "    \n",
      "    E= -1.0* np.sum(spin[i]* (spin[nlist[i][0]] + spin[nlist[i][1]]) for i in xrange (0,N))  \n",
      "    \n",
      "    for i in xrange(1,Nsw+1):\n",
      "        for j in xrange(1,max_correlation+1):\n",
      "            for k in xrange(1,N+1):\n",
      "                s_k, DE,accept_ratio_spin[0],init_n,accept_ratio_n[0] = MCstep(init_n,spin,nlist,J,N,accept_ratio_spin[0],accept_ratio_n[0],Num_n,Num_spin,E)\n",
      "                measure(s_k,DE,observable,N,Nobs)\n",
      "                E = E + DE\n",
      "        np.savetxt(datafile, observable)  #\u00a0bu sat\u0131r ve sonras\u0131 normalde max_correlation dongusu ile ayn\u0131 hizada olacak yani Nsw dongusunun icinde\n",
      "        n=[init_n]    \n",
      "        n2=[init_n*init_n] \n",
      "        np.savetxt(datafile2, n)   #\u00a0n ve n^2 degerleri kaydediliyor her spin bas\u0131na 1 MC step icin. \n",
      "                                        #n'in ve n2'nin beklenen degeri ile enerji, specific heat hesaplayabiliyoruz.\n",
      "        np.savetxt(datafile3, n2)\n",
      "        \n",
      "    accept_ratio_spin[0] = 1.0*accept_ratio_spin[0] / (Nsw*N*max_correlation)\n",
      "    accept_ratio_n[0] = 1.0*accept_ratio_n[0] / (Nsw*N*max_correlation)\n",
      "    \n",
      "    np.savetxt('%s' %spin_write_filename,spin)\n",
      "    np.savetxt('%s' %n_write_filename,n)  #\u00a0simulasyon sonunda bir sonraki simulasyonu kald\u0131g\u0131m\u0131z yerden devam ettirmek \n",
      "                                                #istersek diye en sonuncu n degerini ayr\u0131 bir dosyaya kaydettim.\n",
      "    \n",
      "    k_handle = file('%s/acceptance_ratio_spin' %filename, 'a')\n",
      "    np.savetxt(k_handle, np.column_stack(np.append([J,H,L], accept_ratio_spin)),fmt='%20.5e')\n",
      "    k_handle.close()\n",
      "    \n",
      "    l_handle= file('%s/acceptance_ratio_n' %filename, 'a')\n",
      "    np.savetxt(l_handle, np.column_stack(np.append([J,H,L], accept_ratio_n)),fmt='%20.5e')\n",
      "    l_handle.close()\n",
      "    \n",
      "    datafile.close()\n",
      "    \n",
      "    \n",
      "    #end = time.time()\n",
      "    #print end - start"
     ],
     "language": "python",
     "metadata": {},
     "outputs": [],
     "prompt_number": 14
    },
    {
     "cell_type": "code",
     "collapsed": false,
     "input": [
      "def analyze(Nobserv,observable_uncorre,length,J,L,N,H):\n",
      "    \n",
      "# observable hatalari\n",
      "\n",
      "    observable_mean=np.zeros(Nobserv)\n",
      "\n",
      "    for i in xrange(Nobserv):\n",
      "        observable_mean[i]=np.mean(observable_uncorre[i])\n",
      "\n",
      "\n",
      "    block_size= length/10                  \n",
      "\n",
      "    new_observable=[ [] for i in xrange(Nobserv*2) ]\n",
      "\n",
      "    error_observable=np.zeros(Nobserv*2)\n",
      "\n",
      "    for i in xrange(Nobserv):\n",
      "        new_observable[i],Nblock = blocking_seperating(observable_uncorre[i],block_size)\n",
      "        new_observable[i+Nobserv] = jackknife_delete_i(observable_uncorre[i],length)\n",
      "    \n",
      "    \n",
      "        error_observable[i] = blocking_error(new_observable[i],Nblock)\n",
      "        error_observable[i+Nobserv] = jackknife_error(new_observable[i+Nobserv],np.mean(observable_uncorre[i]),length)\n",
      "\n",
      "\n",
      "    a_handle = file('uncorrelated/mean_observable_and_error', 'a')\n",
      "\n",
      "    np.savetxt(a_handle, np.column_stack(np.append([J, H, L], np.append(observable_mean, error_observable))) , fmt='%19.5e')\n",
      "\n",
      "    a_handle.close()\n",
      "\n",
      "\n",
      "    \n",
      "# property hesaplanmasi\n",
      "\n",
      "    properties=np.zeros(2)\n",
      "\n",
      "    properties[0] = magnetic_susceptibility(observable_mean[0],observable_mean[2],J,N)          # magnetic suscept\n",
      "    properties[1] = specific_heat(observable_mean[1],observable_mean[3],J,N)                    # specific heat\n",
      "\n",
      "# property hatalari\n",
      "    \n",
      "    error_properties=np.zeros(Nobserv)\n",
      "\n",
      "    a=np.zeros(Nblock)\n",
      "    b=np.zeros(Nblock)\n",
      "\n",
      "    for i in xrange(0,Nblock):\n",
      "        a[i]=magnetic_susceptibility(new_observable[0][i],new_observable[2][i],J,N)\n",
      "        b[i]=specific_heat(new_observable[1][i],new_observable[3][i],J,N)\n",
      "\n",
      "    error_properties[0]=blocking_error(a,Nblock)\n",
      "    error_properties[1]=blocking_error(b,Nblock)\n",
      "\n",
      "\n",
      "    c=np.zeros(length)\n",
      "    d=np.zeros(length)\n",
      "    \n",
      "    for i in xrange(length):\n",
      "        c[i]=magnetic_susceptibility(new_observable[0+Nobserv][i],new_observable[2+Nobserv][i],J,N)\n",
      "        d[i]=specific_heat(new_observable[1+Nobserv][i],new_observable[3+Nobserv][i],J,N)\n",
      "\n",
      "    error_properties[2]=jackknife_error(c,properties[0],length)\n",
      "    error_properties[3]=jackknife_error(d,properties[1],length)\n",
      "\n",
      "    print properties\n",
      "    print error_properties\n",
      "\n",
      "    k_handle = file('uncorrelated/properties_and_error', 'a')\n",
      "    np.savetxt(k_handle, np.column_stack(np.append([J, H, L], np.append(properties, error_properties))), fmt='%20.5e')\n",
      "\n",
      "    k_handle.close()"
     ],
     "language": "python",
     "metadata": {},
     "outputs": [],
     "prompt_number": 15
    },
    {
     "cell_type": "heading",
     "level": 1,
     "metadata": {},
     "source": [
      "Main Program"
     ]
    },
    {
     "cell_type": "code",
     "collapsed": false,
     "input": [
      "f_handle = open('uncorrelated/properties_and_error','a')\n",
      "f_handle.write('#            J           /        H           /       L          / Magnetic Susceptibility / Specific Heat /    Suscept Blocking   /   Heat Blocking   /  Suscept Jackknife  /  Heat Jackknife  \\n')\n",
      "f_handle.close()\n",
      "\n",
      "f_handle = open('uncorrelated/mean_observable_and_error','a')\n",
      "f_handle.write('#            J         /        H           /       L          /   Magnetization   /  Internal Energy  /     Magnet^2     /      Energy^2       / Magnet Blocking  / Energy Blocking  / Magnet^2 Blocking /  Energy^2 Blocking  / Magnet Jackknife  / Energy Jackknife  /  Magnet^2 Jackknife  /Energy^2 Jackknife     \\n')\n",
      "f_handle.close()\n",
      "\n",
      "f_handle = open('correlated/correlation_times','a')\n",
      "f_handle.write('#              J           /        H           /        L          /   Correlation Time \\n')\n",
      "f_handle.close()\n",
      "\n",
      "f_handle = open('equil/acceptance_ratio_spin','a')\n",
      "f_handle.write('#            J           /        H           /        L          /   Acceptance Ratio \\n')\n",
      "f_handle.close()\n",
      "\n",
      "f_handle = open('equil/acceptance_ratio_n','a')\n",
      "f_handle.write('#            J           /        H           /        L          /   Acceptance Ratio \\n')\n",
      "f_handle.close()\n",
      "\n",
      "f_handle = open('correlated/acceptance_ratio_spin','a')\n",
      "f_handle.write('#            J           /        H           /        L          /   Acceptance Ratio \\n')\n",
      "f_handle.close()\n",
      "\n",
      "f_handle = open('correlated/acceptance_ratio_n','a')\n",
      "f_handle.write('#            J           /        H           /        L          /   Acceptance Ratio \\n')\n",
      "f_handle.close()\n",
      "\n",
      "f_handle = open('uncorrelated/acceptance_ratio_spin','a')\n",
      "f_handle.write('#            J           /        H           /        L          /   Acceptance Ratio \\n')\n",
      "f_handle.close()\n",
      "\n",
      "f_handle = open('uncorrelated/acceptance_ratio_n','a')\n",
      "f_handle.write('#            J           /        H           /        L          /   Acceptance Ratio \\n')\n",
      "f_handle.close()"
     ],
     "language": "python",
     "metadata": {},
     "outputs": [],
     "prompt_number": 16
    },
    {
     "cell_type": "code",
     "collapsed": false,
     "input": [
      "Nobserv=4 \n",
      "L=32\n",
      "T=1.4\n",
      "J=1/T\n",
      "H=0.0\n",
      "N=L*L\n",
      "\n",
      "num_n=1\n",
      "num_spin=1"
     ],
     "language": "python",
     "metadata": {},
     "outputs": [],
     "prompt_number": 17
    },
    {
     "cell_type": "raw",
     "metadata": {},
     "source": [
      "Optional"
     ]
    },
    {
     "cell_type": "code",
     "collapsed": false,
     "input": [
      "init_spin = np.ones(N, dtype=np.int64)  \n",
      "np.savetxt('%s/spin' %('spin'),init_spin) \n",
      "\n",
      "init_n = [int(J*N)]\n",
      "np.savetxt('%s/n' %('n'),init_n)"
     ],
     "language": "python",
     "metadata": {},
     "outputs": [],
     "prompt_number": 18
    },
    {
     "cell_type": "code",
     "collapsed": false,
     "input": [
      "Nsw_equil1=3000"
     ],
     "language": "python",
     "metadata": {},
     "outputs": [],
     "prompt_number": 19
    },
    {
     "cell_type": "code",
     "collapsed": false,
     "input": [
      "ising2dmc(J,L,N,H,Nsw=Nsw_equil1,max_correlation=1,filename='equil',spin_read_filename='spin/spin',spin_write_filename='spin/spin',n_read_filename='n/n',n_write_filename='n/n',Nobs=Nobserv,Num_n=num_n,Num_spin=num_spin)"
     ],
     "language": "python",
     "metadata": {},
     "outputs": [],
     "prompt_number": 20
    },
    {
     "cell_type": "markdown",
     "metadata": {},
     "source": [
      "Nsw_equil2=1000"
     ]
    },
    {
     "cell_type": "markdown",
     "metadata": {},
     "source": [
      "ising2dmc(J,L,N,H,Nsw=Nsw_equil2,max_correlation=1,filename='equil',spin_read_filename='spin/spin',spin_write_filename='spin/spin',Nobs=Nobserv)"
     ]
    },
    {
     "cell_type": "code",
     "collapsed": false,
     "input": [
      "import timeit\n",
      "t=timeit.Timer(\"ising2dmc(1/(1.4),32,32*32,0.0,Nsw=4000,max_correlation=1,filename='correlated',spin_read_filename='spin/spin',spin_write_filename='spin/spin',n_read_filename='n/n',n_write_filename='n/n',Nobs=4,Num_n=1,Num_spin=1)\",\"from __main__ import ising2dmc\")\n",
      "print t.timeit(1)"
     ],
     "language": "python",
     "metadata": {},
     "outputs": [
      {
       "output_type": "stream",
       "stream": "stdout",
       "text": [
        "215.868740082\n"
       ]
      }
     ],
     "prompt_number": 22
    },
    {
     "cell_type": "code",
     "collapsed": false,
     "input": [
      "Nsw_corre1=4000"
     ],
     "language": "python",
     "metadata": {},
     "outputs": [],
     "prompt_number": 21
    },
    {
     "cell_type": "code",
     "collapsed": false,
     "input": [
      "ising2dmc(J,L,N,H,Nsw=Nsw_corre1,max_correlation=1,filename='correlated',spin_read_filename='spin/spin',spin_write_filename='spin/spin',n_read_filename='n/n',n_write_filename='n/n',Nobs=Nobserv,Num_n=num_n,Num_spin=num_spin)"
     ],
     "language": "python",
     "metadata": {},
     "outputs": [
      {
       "output_type": "stream",
       "stream": "stdout",
       "text": [
        "started timing\n",
        "240.285616159"
       ]
      },
      {
       "output_type": "stream",
       "stream": "stdout",
       "text": [
        "\n"
       ]
      }
     ],
     "prompt_number": 48
    },
    {
     "cell_type": "code",
     "collapsed": false,
     "input": [
      "tau=autocorrelation(Nsw_corre1,J,L,N,H,'correlated',Nobserv)\n",
      "\n",
      "print tau"
     ],
     "language": "python",
     "metadata": {},
     "outputs": [
      {
       "output_type": "stream",
       "stream": "stdout",
       "text": [
        "[ 30.  22.  14.  22.]\n",
        "30\n"
       ]
      }
     ],
     "prompt_number": 49
    },
    {
     "cell_type": "markdown",
     "metadata": {},
     "source": [
      "Nsw_corre2=3000"
     ]
    },
    {
     "cell_type": "markdown",
     "metadata": {},
     "source": [
      "ising2dmc(J,L,N,H,Nsw=Nsw_corre2,max_correlation=1,filename='correlated',spin_read_filename='spin/spin',spin_write_filename='spin/spin',Nobs=Nobserv)\n",
      "\n",
      "tau=autocorrelation(Nsw_corre1+Nsw_corre2,J,L,N,H,'correlated',Nobserv)\n",
      "\n",
      "print tau"
     ]
    },
    {
     "cell_type": "code",
     "collapsed": false,
     "input": [
      "Ndata=1000"
     ],
     "language": "python",
     "metadata": {},
     "outputs": [],
     "prompt_number": 50
    },
    {
     "cell_type": "code",
     "collapsed": false,
     "input": [
      "ising2dmc(J,L,N,H,Nsw=Ndata,max_correlation=tau,filename='uncorrelated',spin_read_filename='spin/spin',spin_write_filename='spin/spin',n_read_filename='n/n',n_write_filename='n/n',Nobs=Nobserv,Num_n=num_n,Num_spin=num_spin)"
     ],
     "language": "python",
     "metadata": {},
     "outputs": [
      {
       "output_type": "stream",
       "stream": "stdout",
       "text": [
        "started timing\n",
        "1661.2585969"
       ]
      },
      {
       "output_type": "stream",
       "stream": "stdout",
       "text": [
        "\n"
       ]
      }
     ],
     "prompt_number": 51
    },
    {
     "cell_type": "code",
     "collapsed": false,
     "input": [
      "observable_uncorre=load_observable1(2*Ndata+1000+1000,J,L,H,'uncorrelated',Nobserv)\n",
      "\n",
      "length=len(observable_uncorre[0])\n",
      "\n",
      "print length"
     ],
     "language": "python",
     "metadata": {},
     "outputs": [
      {
       "output_type": "stream",
       "stream": "stdout",
       "text": [
        "4000\n"
       ]
      }
     ],
     "prompt_number": 52
    },
    {
     "cell_type": "code",
     "collapsed": false,
     "input": [
      "analyze(Nobserv,observable_uncorre,length,J,L,N,H)"
     ],
     "language": "python",
     "metadata": {},
     "outputs": [
      {
       "output_type": "stream",
       "stream": "stdout",
       "text": [
        "[ 3.76728355  0.39654901]\n",
        "[ 0.09882788  0.01170935  0.08335386  0.00871484]\n"
       ]
      }
     ],
     "prompt_number": 53
    },
    {
     "cell_type": "markdown",
     "metadata": {},
     "source": [
      "Ndata2=1000"
     ]
    },
    {
     "cell_type": "markdown",
     "metadata": {},
     "source": [
      "ising2dmc(J,L,N,H,Nsw=Ndata2,max_correlation=tau,filename='uncorrelated',spin_read_filename='spin/spin',spin_write_filename='spin/spin',Nobs=Nobserv)"
     ]
    },
    {
     "cell_type": "markdown",
     "metadata": {},
     "source": [
      "observable_uncorre=load_observable1(Ndata+Ndata2,J,L,'uncorrelated',Nobserv)\n",
      "\n",
      "length=len(observable_uncorre[0])\n",
      "\n",
      "print length"
     ]
    },
    {
     "cell_type": "markdown",
     "metadata": {},
     "source": [
      "analyze(Nobserv,observable_uncorre,length,J,L,N,H)"
     ]
    },
    {
     "cell_type": "code",
     "collapsed": false,
     "input": [
      "#n icin de analiz koyulacak uncorrelated n degerleri alinacak. beklenen deger ve hata hesab\u0131 yap\u0131calak"
     ],
     "language": "python",
     "metadata": {},
     "outputs": [],
     "prompt_number": 27
    },
    {
     "cell_type": "code",
     "collapsed": false,
     "input": [
      "n_uncorre=np.zeros([2,Ndata])\n",
      "\n",
      "n_uncorre[0]=np.loadtxt('%s/n_J%.2f_L%i_H%.2f' %('uncorrelated' , J, L,H))\n",
      "n_uncorre[1]=np.loadtxt('%s/n2_J%.2f_L%i_H%.2f' %('uncorrelated' , J, L,H))\n",
      "\n",
      "length=len(observable_uncorre[0])\n",
      "\n",
      "print length"
     ],
     "language": "python",
     "metadata": {},
     "outputs": [
      {
       "output_type": "stream",
       "stream": "stdout",
       "text": [
        "1000\n"
       ]
      }
     ],
     "prompt_number": 28
    },
    {
     "cell_type": "code",
     "collapsed": false,
     "input": [
      "epsilon=0\n",
      "n_mean=np.zeros(2)\n",
      "for i in xrange(2):\n",
      "    n_mean[i]=np.mean(n_uncorre[i])\n",
      "\n",
      "energy_n= (epsilon - 1.0*n_mean[0]/J)/N\n",
      "energy2_n= (epsilon - 1.0*n_mean[0]/J)/(N*N)\n",
      "c_n= 1.0*(n_mean[1] - n_mean[0]*n_mean[0] - n_mean[0])/N "
     ],
     "language": "python",
     "metadata": {},
     "outputs": [],
     "prompt_number": 29
    },
    {
     "cell_type": "code",
     "collapsed": false,
     "input": [
      "print energy_n, energy2_n, c_n"
     ],
     "language": "python",
     "metadata": {},
     "outputs": [
      {
       "output_type": "stream",
       "stream": "stdout",
       "text": [
        "-1.48561523437 -0.00145079612732 0.355587792969\n"
       ]
      }
     ],
     "prompt_number": 30
    },
    {
     "cell_type": "code",
     "collapsed": false,
     "input": [],
     "language": "python",
     "metadata": {},
     "outputs": []
    }
   ],
   "metadata": {}
  }
 ]
}