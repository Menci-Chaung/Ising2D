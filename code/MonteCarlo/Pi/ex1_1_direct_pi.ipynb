{
 "metadata": {
  "name": "ex1_1_direct_pi.ipynb"
 },
 "nbformat": 3,
 "nbformat_minor": 0,
 "worksheets": [
  {
   "cells": [
    {
     "cell_type": "heading",
     "level": 1,
     "metadata": {},
     "source": [
      "Direct Pi Calculation"
     ]
    },
    {
     "cell_type": "code",
     "collapsed": false,
     "input": [
      "import random\n",
      "import numpy as np\n",
      "import matplotlib.pyplot as plt"
     ],
     "language": "python",
     "metadata": {},
     "outputs": [],
     "prompt_number": 1
    },
    {
     "cell_type": "code",
     "collapsed": false,
     "input": [
      "def direct_pi(n):\n",
      "    msd = np.zeros(Nloop)\n",
      "    pi_calc = np.zeros(Nloop)\n",
      "    \n",
      "    for k in xrange(0,Nloop):\n",
      "        n_hits=0\n",
      "        for i in range(1, n):\n",
      "            x=random.uniform(0, 1) \n",
      "            y=random.uniform(0, 1)\n",
      "            if ( x*x + y*y ) < 1 :\n",
      "                n_hits += 1\n",
      "            \n",
      "        pi_calc[k] = 4.0*n_hits/n\n",
      "        msd[k]=pow((1.0*n_hits / n - math.pi/4),2)\n",
      "\n",
      "    return np.mean(pi_calc),np.mean(msd)"
     ],
     "language": "python",
     "metadata": {},
     "outputs": [],
     "prompt_number": 2
    },
    {
     "cell_type": "code",
     "collapsed": false,
     "input": [
      "Nmax=8\n",
      "Nloop=25"
     ],
     "language": "python",
     "metadata": {},
     "outputs": [],
     "prompt_number": 3
    },
    {
     "cell_type": "code",
     "collapsed": false,
     "input": [
      "res=np.zeros(Nmax-1)\n",
      "msd=np.zeros(Nmax-1)\n",
      "\n",
      "for i in xrange(1,Nmax):\n",
      "\n",
      "    res[i-1], msd[i-1]=direct_pi(pow(10,i))"
     ],
     "language": "python",
     "metadata": {},
     "outputs": [],
     "prompt_number": 4
    },
    {
     "cell_type": "code",
     "collapsed": false,
     "input": [
      "print math.pi\n",
      "print res\n",
      "print msd"
     ],
     "language": "python",
     "metadata": {},
     "outputs": [
      {
       "output_type": "stream",
       "stream": "stdout",
       "text": [
        "3.14159265359\n",
        "[ 2.912       3.1344      3.13744     3.146048    3.141792    3.14188208\n",
        "  3.14149515]\n",
        "[  1.33105492e-02   7.78273392e-04   1.60748183e-04   1.53696880e-05\n",
        "   1.16823569e-06   1.21030528e-07   1.44841379e-08]\n"
       ]
      }
     ],
     "prompt_number": 5
    },
    {
     "cell_type": "code",
     "collapsed": false,
     "input": [
      "p = np.polyfit(range(3,Nmax),log(msd[2:]),1)\n",
      "\n",
      "print p"
     ],
     "language": "python",
     "metadata": {},
     "outputs": [
      {
       "output_type": "stream",
       "stream": "stdout",
       "text": [
        "[-2.34731902 -1.754652  ]\n"
       ]
      }
     ],
     "prompt_number": 6
    },
    {
     "cell_type": "code",
     "collapsed": false,
     "input": [
      "x=linspace(2,Nmax-1,100)\n",
      "y=np.exp(p[0]*x+p[1])"
     ],
     "language": "python",
     "metadata": {},
     "outputs": [],
     "prompt_number": 7
    },
    {
     "cell_type": "code",
     "collapsed": false,
     "input": [
      "plt.plot(range(3,Nmax),msd[2:],'ro')\n",
      "plt.plot(x,y,'b-')\n",
      "plt.title('Mean Square Deviation(MSD)',fontsize=12)\n",
      "plt.xlabel('$\\log_{10}N$',fontsize=18)\n",
      "plt.text(4.6, .00013, r' MSD=$ E[(\\frac{Nhits}{N} -\\frac{\\pi}{4})^2]$',fontsize=18)\n",
      "plt.ylim(-0.00002,0.00017)\n",
      "plt.xlim(2.9,7.03)\n",
      "savefig('mean_square_deviation_direct_sampling.png')"
     ],
     "language": "python",
     "metadata": {},
     "outputs": [
      {
       "output_type": "display_data",
       "png": "[encoded data removed]",
       "text": [
        "<matplotlib.figure.Figure at 0x10bfbf110>"
       ]
      }
     ],
     "prompt_number": 15
    },
    {
     "cell_type": "code",
     "collapsed": false,
     "input": [],
     "language": "python",
     "metadata": {},
     "outputs": [],
     "prompt_number": 35
    },
    {
     "cell_type": "code",
     "collapsed": false,
     "input": [],
     "language": "python",
     "metadata": {},
     "outputs": []
    }
   ],
   "metadata": {}
  }
 ]
}