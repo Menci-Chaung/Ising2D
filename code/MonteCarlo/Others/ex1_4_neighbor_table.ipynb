{
 "metadata": {
  "name": "ex1_4_neighbor_table.ipynb"
 },
 "nbformat": 3,
 "nbformat_minor": 0,
 "worksheets": [
  {
   "cells": [
    {
     "cell_type": "code",
     "collapsed": false,
     "input": [
      "import random\n",
      "import math\n",
      "import numpy as np\n",
      "import matplotlib.pyplot as plt\n",
      "from array import *\n",
      "\n",
      "#import tkSimpleDialog\n",
      "\n",
      "#import IPython.core.display"
     ],
     "language": "python",
     "metadata": {},
     "outputs": [],
     "prompt_number": 1
    },
    {
     "cell_type": "code",
     "collapsed": false,
     "input": [
      "#def ipynb_input(varname, prompt=''):\n",
      "#    \"\"\"Prompt user for input and assign string val to given variable name.\"\"\"\n",
      "#    js_code = (\"\"\"var value = prompt(\"{prompt}\",\"\");\n",
      "#            var py_code = \"{varname} = '\" + value + \"'\";\n",
      "#            IPython.notebook.kernel.execute(py_code);\n",
      "#    \"\"\").format(prompt=prompt, varname=varname)\n",
      "#    return IPython.core.display.Javascript(js_code)"
     ],
     "language": "python",
     "metadata": {},
     "outputs": [],
     "prompt_number": 2
    },
    {
     "cell_type": "code",
     "collapsed": false,
     "input": [
      "def nbr(n,k):\n",
      "    if k == 1: \n",
      "        if n == 1:\n",
      "            return 2\n",
      "        elif n == 2:\n",
      "            return 4\n",
      "        else: \n",
      "            return 0\n",
      "    if k == 2: \n",
      "        if n == 1:\n",
      "            return 3\n",
      "        elif n == 2:\n",
      "            return 5\n",
      "        elif n == 3: \n",
      "            return 1\n",
      "        else: \n",
      "            return 0\n",
      "    if k == 3: \n",
      "        if n == 2:\n",
      "            return 6\n",
      "        elif n == 3:\n",
      "            return 2\n",
      "        else: \n",
      "            return 0\n",
      "    if k == 4: \n",
      "        if n == 1:\n",
      "            return 5\n",
      "        elif n == 2:\n",
      "            return 7\n",
      "        elif n == 4:\n",
      "            return 1\n",
      "        else: \n",
      "            return 0\n",
      "    if k == 5: \n",
      "        if n == 1:\n",
      "            return 6\n",
      "        elif n == 2:\n",
      "            return 8\n",
      "        elif n == 3: \n",
      "            return 4\n",
      "        elif n == 4:\n",
      "            return 2\n",
      "    if k == 6: \n",
      "        if n == 2:\n",
      "            return 9\n",
      "        elif n == 3:\n",
      "            return 5\n",
      "        elif n == 4:\n",
      "            return 3\n",
      "        else:\n",
      "            return 0\n",
      "    if k == 7:\n",
      "        if n == 1:\n",
      "            return 8\n",
      "        elif n == 4:\n",
      "            return 4\n",
      "        else: \n",
      "            return 0\n",
      "    if k == 8:\n",
      "        if n == 1:\n",
      "            return 9\n",
      "        elif n == 3:\n",
      "            return 7\n",
      "        elif n == 4:\n",
      "            return 5\n",
      "        else: \n",
      "            return 0\n",
      "    if k == 9: \n",
      "        if n == 3:\n",
      "            return 8\n",
      "        elif n == 4:\n",
      "            return 6\n",
      "        else: \n",
      "            return 0"
     ],
     "language": "python",
     "metadata": {},
     "outputs": [],
     "prompt_number": 3
    },
    {
     "cell_type": "code",
     "collapsed": false,
     "input": [
      "def markov_discrete_pebble():\n",
      "    n=1000\n",
      "    konum = array('i',[0 for k in range(9)])\n",
      "    print \"Enter the position of pebble:\"\n",
      "    position = int(raw_input()) \n",
      "    \n",
      "    #position = input()\n",
      "    \n",
      "    #position = tkSimpleDialog.askstring('Input', \"hello there\")\n",
      "    \n",
      "    #position=ipynb_input(varname='position',prompt='Enter the position of pebble: ')\n",
      "    \n",
      "    print \"First position=\" ,position\n",
      "    konum[position-1] += 1\n",
      "\n",
      "    for i in range(1, n):\n",
      "        move = random.randrange(1, 5)\n",
      "        #print \"random=\",move\n",
      "        if nbr(move,position) != 0:\n",
      "            position = nbr(move,position)    \n",
      "        print \"New Position=\", position\n",
      "        konum[position-1] += 1\n",
      "    \n",
      "    print \"konum=\",konum\n",
      "    return konum"
     ],
     "language": "python",
     "metadata": {},
     "outputs": [],
     "prompt_number": 4
    },
    {
     "cell_type": "code",
     "collapsed": false,
     "input": [
      "konum = markov_discrete_pebble()\n",
      "print konum"
     ],
     "language": "python",
     "metadata": {},
     "outputs": [
      {
       "ename": "StdinNotImplementedError",
       "evalue": "raw_input was called, but this frontend does not support stdin.",
       "output_type": "pyerr",
       "traceback": [
        "\u001b[0;31m---------------------------------------------------------------------------\u001b[0m\n\u001b[0;31mStdinNotImplementedError\u001b[0m                  Traceback (most recent call last)",
        "\u001b[0;32m<ipython-input-5-e609a59669a3>\u001b[0m in \u001b[0;36m<module>\u001b[0;34m()\u001b[0m\n\u001b[0;32m----> 1\u001b[0;31m \u001b[0mkonum\u001b[0m \u001b[0;34m=\u001b[0m \u001b[0mmarkov_discrete_pebble\u001b[0m\u001b[0;34m(\u001b[0m\u001b[0;34m)\u001b[0m\u001b[0;34m\u001b[0m\u001b[0m\n\u001b[0m\u001b[1;32m      2\u001b[0m \u001b[0;32mprint\u001b[0m \u001b[0mkonum\u001b[0m\u001b[0;34m\u001b[0m\u001b[0m\n",
        "\u001b[0;32m<ipython-input-4-ed52fcd0ba31>\u001b[0m in \u001b[0;36mmarkov_discrete_pebble\u001b[0;34m()\u001b[0m\n\u001b[1;32m      3\u001b[0m     \u001b[0mkonum\u001b[0m \u001b[0;34m=\u001b[0m \u001b[0marray\u001b[0m\u001b[0;34m(\u001b[0m\u001b[0;34m'i'\u001b[0m\u001b[0;34m,\u001b[0m\u001b[0;34m[\u001b[0m\u001b[0;36m0\u001b[0m \u001b[0;32mfor\u001b[0m \u001b[0mk\u001b[0m \u001b[0;32min\u001b[0m \u001b[0mrange\u001b[0m\u001b[0;34m(\u001b[0m\u001b[0;36m9\u001b[0m\u001b[0;34m)\u001b[0m\u001b[0;34m]\u001b[0m\u001b[0;34m)\u001b[0m\u001b[0;34m\u001b[0m\u001b[0m\n\u001b[1;32m      4\u001b[0m     \u001b[0;32mprint\u001b[0m \u001b[0;34m\"Enter the position of pebble:\"\u001b[0m\u001b[0;34m\u001b[0m\u001b[0m\n\u001b[0;32m----> 5\u001b[0;31m     \u001b[0mposition\u001b[0m \u001b[0;34m=\u001b[0m \u001b[0mint\u001b[0m\u001b[0;34m(\u001b[0m\u001b[0mraw_input\u001b[0m\u001b[0;34m(\u001b[0m\u001b[0;34m)\u001b[0m\u001b[0;34m)\u001b[0m\u001b[0;34m\u001b[0m\u001b[0m\n\u001b[0m\u001b[1;32m      6\u001b[0m \u001b[0;34m\u001b[0m\u001b[0m\n\u001b[1;32m      7\u001b[0m     \u001b[0;31m#position = input()\u001b[0m\u001b[0;34m\u001b[0m\u001b[0;34m\u001b[0m\u001b[0m\n",
        "\u001b[0;32m/Applications/Canopy.app/appdata/canopy-1.1.0.1371.macosx-x86_64/Canopy.app/Contents/lib/python2.7/site-packages/IPython/kernel/zmq/ipkernel.pyc\u001b[0m in \u001b[0;36m<lambda>\u001b[0;34m(prompt)\u001b[0m\n\u001b[1;32m    352\u001b[0m             \u001b[0mraw_input\u001b[0m \u001b[0;34m=\u001b[0m \u001b[0;32mlambda\u001b[0m \u001b[0mprompt\u001b[0m\u001b[0;34m=\u001b[0m\u001b[0;34m''\u001b[0m\u001b[0;34m:\u001b[0m \u001b[0mself\u001b[0m\u001b[0;34m.\u001b[0m\u001b[0m_raw_input\u001b[0m\u001b[0;34m(\u001b[0m\u001b[0mprompt\u001b[0m\u001b[0;34m,\u001b[0m \u001b[0mident\u001b[0m\u001b[0;34m,\u001b[0m \u001b[0mparent\u001b[0m\u001b[0;34m)\u001b[0m\u001b[0;34m\u001b[0m\u001b[0m\n\u001b[1;32m    353\u001b[0m         \u001b[0;32melse\u001b[0m\u001b[0;34m:\u001b[0m\u001b[0;34m\u001b[0m\u001b[0m\n\u001b[0;32m--> 354\u001b[0;31m             \u001b[0mraw_input\u001b[0m \u001b[0;34m=\u001b[0m \u001b[0;32mlambda\u001b[0m \u001b[0mprompt\u001b[0m\u001b[0;34m=\u001b[0m\u001b[0;34m''\u001b[0m \u001b[0;34m:\u001b[0m \u001b[0mself\u001b[0m\u001b[0;34m.\u001b[0m\u001b[0m_no_raw_input\u001b[0m\u001b[0;34m(\u001b[0m\u001b[0;34m)\u001b[0m\u001b[0;34m\u001b[0m\u001b[0m\n\u001b[0m\u001b[1;32m    355\u001b[0m \u001b[0;34m\u001b[0m\u001b[0m\n\u001b[1;32m    356\u001b[0m         \u001b[0;32mif\u001b[0m \u001b[0mpy3compat\u001b[0m\u001b[0;34m.\u001b[0m\u001b[0mPY3\u001b[0m\u001b[0;34m:\u001b[0m\u001b[0;34m\u001b[0m\u001b[0m\n",
        "\u001b[0;32m/Applications/Canopy.app/appdata/canopy-1.1.0.1371.macosx-x86_64/Canopy.app/Contents/lib/python2.7/site-packages/IPython/kernel/zmq/ipkernel.pyc\u001b[0m in \u001b[0;36m_no_raw_input\u001b[0;34m(self)\u001b[0m\n\u001b[1;32m    737\u001b[0m         \"\"\"Raise StdinNotImplentedError if active frontend doesn't support\n\u001b[1;32m    738\u001b[0m         stdin.\"\"\"\n\u001b[0;32m--> 739\u001b[0;31m         raise StdinNotImplementedError(\"raw_input was called, but this \"\n\u001b[0m\u001b[1;32m    740\u001b[0m                                        \"frontend does not support stdin.\") \n\u001b[1;32m    741\u001b[0m \u001b[0;34m\u001b[0m\u001b[0m\n",
        "\u001b[0;31mStdinNotImplementedError\u001b[0m: raw_input was called, but this frontend does not support stdin."
       ]
      },
      {
       "output_type": "stream",
       "stream": "stdout",
       "text": [
        "Enter the position of pebble:\n"
       ]
      }
     ],
     "prompt_number": 5
    },
    {
     "cell_type": "code",
     "collapsed": false,
     "input": [
      "x = np.linspace(1,9,9)\n",
      "pl.clf()\n",
      "plt.plot(x,konum,'ro')\n",
      "p = np.polyfit(x,konum,0)\n",
      "pl.plot( x, p[0] + 0*x, 'r')\n",
      "plt.ylabel('Bulunulma sayisi')\n",
      "plt.xlabel('Konum')\n",
      "plt.title('Bir konumda bulunma sayisi vs konum')  \n",
      "plt.show()\n",
      "    "
     ],
     "language": "python",
     "metadata": {},
     "outputs": []
    },
    {
     "cell_type": "code",
     "collapsed": false,
     "input": [],
     "language": "python",
     "metadata": {},
     "outputs": []
    }
   ],
   "metadata": {}
  }
 ]
}